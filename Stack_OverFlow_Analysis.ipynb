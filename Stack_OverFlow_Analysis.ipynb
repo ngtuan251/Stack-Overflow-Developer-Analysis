{
  "nbformat": 4,
  "nbformat_minor": 0,
  "metadata": {
    "colab": {
      "name": "StackOverFlow_Analysis.ipynb",
      "provenance": [],
      "collapsed_sections": []
    },
    "kernelspec": {
      "name": "python3",
      "display_name": "Python 3"
    },
    "language_info": {
      "name": "python"
    },
    "accelerator": "GPU"
  },
  "cells": [
    {
      "cell_type": "markdown",
      "source": [
        "# **Stack Overflow Developer Analysis**\n",
        "---"
      ],
      "metadata": {
        "id": "ExR4PaVYW4Wl"
      }
    },
    {
      "cell_type": "code",
      "source": [
        "__author__ = \"Tuan Nguyen\"\n",
        "__email__ = \"nguyentuan250102@gmail.com\"\n",
        "__github__ = \"https://github.com/nguyentuan251\""
      ],
      "metadata": {
        "id": "lqf_ML5dZtxm"
      },
      "execution_count": 1,
      "outputs": []
    },
    {
      "cell_type": "markdown",
      "source": [
        "## **Motivation**\n",
        "\n",
        "As a technology student or a coder, you might wonder:\n",
        "\n",
        "*    Will you earn more salary as you gain more industry experience? If so how much more?\n",
        "*   Do other factors such as the formal degree, position type, and the size of the company affect your salaries?\n",
        "\n",
        "In this project, I will try to answer these questions using visualization and Bayesian inference in Python.\n"
      ],
      "metadata": {
        "id": "sEkmUGPObjEl"
      }
    },
    {
      "cell_type": "markdown",
      "source": [
        "## **Collecting The Data**\n",
        "\n",
        "To get a realistic result, we will use the data collected from individual responses on the 2021 Developer Survey fielded by Stack Overflow.\n",
        "\n",
        "Start by downloading the data to your current directory then run:"
      ],
      "metadata": {
        "id": "wOmYWrshfuDR"
      }
    },
    {
      "cell_type": "code",
      "source": [
        "import pandas as pd\n",
        "import seaborn as sns\n",
        "import matplotlib.pyplot as plt\n"
      ],
      "metadata": {
        "id": "2YVkTFVAW5xN"
      },
      "execution_count": 2,
      "outputs": []
    },
    {
      "cell_type": "code",
      "source": [
        "from google.colab import drive\n",
        "\n",
        "drive.mount('/content/gdrive')"
      ],
      "metadata": {
        "colab": {
          "base_uri": "https://localhost:8080/"
        },
        "id": "pGX00QpVDmii",
        "outputId": "126cebbe-e3b8-454f-8a88-cd925758b88a"
      },
      "execution_count": 3,
      "outputs": [
        {
          "output_type": "stream",
          "name": "stdout",
          "text": [
            "Mounted at /content/gdrive\n"
          ]
        }
      ]
    },
    {
      "cell_type": "code",
      "source": [
        "df = pd.read_csv(\"/content/gdrive/MyDrive/stack-overflow-developer-survey-2021/survey_results_public.csv\")"
      ],
      "metadata": {
        "id": "lMWkXyE_Dnn5"
      },
      "execution_count": 155,
      "outputs": []
    },
    {
      "cell_type": "code",
      "source": [
        "df.head() "
      ],
      "metadata": {
        "colab": {
          "base_uri": "https://localhost:8080/",
          "height": 750
        },
        "id": "iz8neXdqD2Ks",
        "outputId": "9bf9d251-3812-4572-ef64-31f9926ada82"
      },
      "execution_count": 156,
      "outputs": [
        {
          "output_type": "execute_result",
          "data": {
            "text/plain": [
              "   ResponseId                                         MainBranch  \\\n",
              "0           1                     I am a developer by profession   \n",
              "1           2             I am a student who is learning to code   \n",
              "2           3  I am not primarily a developer, but I write co...   \n",
              "3           4                     I am a developer by profession   \n",
              "4           5                     I am a developer by profession   \n",
              "\n",
              "                                          Employment  \\\n",
              "0  Independent contractor, freelancer, or self-em...   \n",
              "1                                 Student, full-time   \n",
              "2                                 Student, full-time   \n",
              "3                                 Employed full-time   \n",
              "4  Independent contractor, freelancer, or self-em...   \n",
              "\n",
              "                                             Country US_State UK_Country  \\\n",
              "0                                           Slovakia      NaN        NaN   \n",
              "1                                        Netherlands      NaN        NaN   \n",
              "2                                 Russian Federation      NaN        NaN   \n",
              "3                                            Austria      NaN        NaN   \n",
              "4  United Kingdom of Great Britain and Northern I...      NaN    England   \n",
              "\n",
              "                                             EdLevel     Age1stCode  \\\n",
              "0  Secondary school (e.g. American high school, G...  18 - 24 years   \n",
              "1       Bachelor’s degree (B.A., B.S., B.Eng., etc.)  11 - 17 years   \n",
              "2       Bachelor’s degree (B.A., B.S., B.Eng., etc.)  11 - 17 years   \n",
              "3    Master’s degree (M.A., M.S., M.Eng., MBA, etc.)  11 - 17 years   \n",
              "4    Master’s degree (M.A., M.S., M.Eng., MBA, etc.)   5 - 10 years   \n",
              "\n",
              "                                           LearnCode YearsCode  ...  \\\n",
              "0  Coding Bootcamp;Other online resources (ex: vi...       NaN  ...   \n",
              "1  Other online resources (ex: videos, blogs, etc...         7  ...   \n",
              "2  Other online resources (ex: videos, blogs, etc...       NaN  ...   \n",
              "3                                                NaN       NaN  ...   \n",
              "4                            Friend or family member        17  ...   \n",
              "\n",
              "               Age Gender Trans                Sexuality  \\\n",
              "0  25-34 years old    Man    No  Straight / Heterosexual   \n",
              "1  18-24 years old    Man    No  Straight / Heterosexual   \n",
              "2  18-24 years old    Man    No        Prefer not to say   \n",
              "3  35-44 years old    Man    No  Straight / Heterosexual   \n",
              "4  25-34 years old    Man    No                      NaN   \n",
              "\n",
              "                      Ethnicity                Accessibility  \\\n",
              "0  White or of European descent            None of the above   \n",
              "1  White or of European descent            None of the above   \n",
              "2             Prefer not to say            None of the above   \n",
              "3  White or of European descent  I am deaf / hard of hearing   \n",
              "4  White or of European descent            None of the above   \n",
              "\n",
              "        MentalHealth           SurveyLength                  SurveyEase  \\\n",
              "0  None of the above  Appropriate in length                        Easy   \n",
              "1  None of the above  Appropriate in length                        Easy   \n",
              "2  None of the above  Appropriate in length                        Easy   \n",
              "3                NaN  Appropriate in length  Neither easy nor difficult   \n",
              "4                NaN  Appropriate in length                        Easy   \n",
              "\n",
              "  ConvertedCompYearly  \n",
              "0             62268.0  \n",
              "1                 NaN  \n",
              "2                 NaN  \n",
              "3                 NaN  \n",
              "4                 NaN  \n",
              "\n",
              "[5 rows x 48 columns]"
            ],
            "text/html": [
              "\n",
              "  <div id=\"df-9bd1f663-c2ec-4dc3-b1a2-f748b2794803\">\n",
              "    <div class=\"colab-df-container\">\n",
              "      <div>\n",
              "<style scoped>\n",
              "    .dataframe tbody tr th:only-of-type {\n",
              "        vertical-align: middle;\n",
              "    }\n",
              "\n",
              "    .dataframe tbody tr th {\n",
              "        vertical-align: top;\n",
              "    }\n",
              "\n",
              "    .dataframe thead th {\n",
              "        text-align: right;\n",
              "    }\n",
              "</style>\n",
              "<table border=\"1\" class=\"dataframe\">\n",
              "  <thead>\n",
              "    <tr style=\"text-align: right;\">\n",
              "      <th></th>\n",
              "      <th>ResponseId</th>\n",
              "      <th>MainBranch</th>\n",
              "      <th>Employment</th>\n",
              "      <th>Country</th>\n",
              "      <th>US_State</th>\n",
              "      <th>UK_Country</th>\n",
              "      <th>EdLevel</th>\n",
              "      <th>Age1stCode</th>\n",
              "      <th>LearnCode</th>\n",
              "      <th>YearsCode</th>\n",
              "      <th>...</th>\n",
              "      <th>Age</th>\n",
              "      <th>Gender</th>\n",
              "      <th>Trans</th>\n",
              "      <th>Sexuality</th>\n",
              "      <th>Ethnicity</th>\n",
              "      <th>Accessibility</th>\n",
              "      <th>MentalHealth</th>\n",
              "      <th>SurveyLength</th>\n",
              "      <th>SurveyEase</th>\n",
              "      <th>ConvertedCompYearly</th>\n",
              "    </tr>\n",
              "  </thead>\n",
              "  <tbody>\n",
              "    <tr>\n",
              "      <th>0</th>\n",
              "      <td>1</td>\n",
              "      <td>I am a developer by profession</td>\n",
              "      <td>Independent contractor, freelancer, or self-em...</td>\n",
              "      <td>Slovakia</td>\n",
              "      <td>NaN</td>\n",
              "      <td>NaN</td>\n",
              "      <td>Secondary school (e.g. American high school, G...</td>\n",
              "      <td>18 - 24 years</td>\n",
              "      <td>Coding Bootcamp;Other online resources (ex: vi...</td>\n",
              "      <td>NaN</td>\n",
              "      <td>...</td>\n",
              "      <td>25-34 years old</td>\n",
              "      <td>Man</td>\n",
              "      <td>No</td>\n",
              "      <td>Straight / Heterosexual</td>\n",
              "      <td>White or of European descent</td>\n",
              "      <td>None of the above</td>\n",
              "      <td>None of the above</td>\n",
              "      <td>Appropriate in length</td>\n",
              "      <td>Easy</td>\n",
              "      <td>62268.0</td>\n",
              "    </tr>\n",
              "    <tr>\n",
              "      <th>1</th>\n",
              "      <td>2</td>\n",
              "      <td>I am a student who is learning to code</td>\n",
              "      <td>Student, full-time</td>\n",
              "      <td>Netherlands</td>\n",
              "      <td>NaN</td>\n",
              "      <td>NaN</td>\n",
              "      <td>Bachelor’s degree (B.A., B.S., B.Eng., etc.)</td>\n",
              "      <td>11 - 17 years</td>\n",
              "      <td>Other online resources (ex: videos, blogs, etc...</td>\n",
              "      <td>7</td>\n",
              "      <td>...</td>\n",
              "      <td>18-24 years old</td>\n",
              "      <td>Man</td>\n",
              "      <td>No</td>\n",
              "      <td>Straight / Heterosexual</td>\n",
              "      <td>White or of European descent</td>\n",
              "      <td>None of the above</td>\n",
              "      <td>None of the above</td>\n",
              "      <td>Appropriate in length</td>\n",
              "      <td>Easy</td>\n",
              "      <td>NaN</td>\n",
              "    </tr>\n",
              "    <tr>\n",
              "      <th>2</th>\n",
              "      <td>3</td>\n",
              "      <td>I am not primarily a developer, but I write co...</td>\n",
              "      <td>Student, full-time</td>\n",
              "      <td>Russian Federation</td>\n",
              "      <td>NaN</td>\n",
              "      <td>NaN</td>\n",
              "      <td>Bachelor’s degree (B.A., B.S., B.Eng., etc.)</td>\n",
              "      <td>11 - 17 years</td>\n",
              "      <td>Other online resources (ex: videos, blogs, etc...</td>\n",
              "      <td>NaN</td>\n",
              "      <td>...</td>\n",
              "      <td>18-24 years old</td>\n",
              "      <td>Man</td>\n",
              "      <td>No</td>\n",
              "      <td>Prefer not to say</td>\n",
              "      <td>Prefer not to say</td>\n",
              "      <td>None of the above</td>\n",
              "      <td>None of the above</td>\n",
              "      <td>Appropriate in length</td>\n",
              "      <td>Easy</td>\n",
              "      <td>NaN</td>\n",
              "    </tr>\n",
              "    <tr>\n",
              "      <th>3</th>\n",
              "      <td>4</td>\n",
              "      <td>I am a developer by profession</td>\n",
              "      <td>Employed full-time</td>\n",
              "      <td>Austria</td>\n",
              "      <td>NaN</td>\n",
              "      <td>NaN</td>\n",
              "      <td>Master’s degree (M.A., M.S., M.Eng., MBA, etc.)</td>\n",
              "      <td>11 - 17 years</td>\n",
              "      <td>NaN</td>\n",
              "      <td>NaN</td>\n",
              "      <td>...</td>\n",
              "      <td>35-44 years old</td>\n",
              "      <td>Man</td>\n",
              "      <td>No</td>\n",
              "      <td>Straight / Heterosexual</td>\n",
              "      <td>White or of European descent</td>\n",
              "      <td>I am deaf / hard of hearing</td>\n",
              "      <td>NaN</td>\n",
              "      <td>Appropriate in length</td>\n",
              "      <td>Neither easy nor difficult</td>\n",
              "      <td>NaN</td>\n",
              "    </tr>\n",
              "    <tr>\n",
              "      <th>4</th>\n",
              "      <td>5</td>\n",
              "      <td>I am a developer by profession</td>\n",
              "      <td>Independent contractor, freelancer, or self-em...</td>\n",
              "      <td>United Kingdom of Great Britain and Northern I...</td>\n",
              "      <td>NaN</td>\n",
              "      <td>England</td>\n",
              "      <td>Master’s degree (M.A., M.S., M.Eng., MBA, etc.)</td>\n",
              "      <td>5 - 10 years</td>\n",
              "      <td>Friend or family member</td>\n",
              "      <td>17</td>\n",
              "      <td>...</td>\n",
              "      <td>25-34 years old</td>\n",
              "      <td>Man</td>\n",
              "      <td>No</td>\n",
              "      <td>NaN</td>\n",
              "      <td>White or of European descent</td>\n",
              "      <td>None of the above</td>\n",
              "      <td>NaN</td>\n",
              "      <td>Appropriate in length</td>\n",
              "      <td>Easy</td>\n",
              "      <td>NaN</td>\n",
              "    </tr>\n",
              "  </tbody>\n",
              "</table>\n",
              "<p>5 rows × 48 columns</p>\n",
              "</div>\n",
              "      <button class=\"colab-df-convert\" onclick=\"convertToInteractive('df-9bd1f663-c2ec-4dc3-b1a2-f748b2794803')\"\n",
              "              title=\"Convert this dataframe to an interactive table.\"\n",
              "              style=\"display:none;\">\n",
              "        \n",
              "  <svg xmlns=\"http://www.w3.org/2000/svg\" height=\"24px\"viewBox=\"0 0 24 24\"\n",
              "       width=\"24px\">\n",
              "    <path d=\"M0 0h24v24H0V0z\" fill=\"none\"/>\n",
              "    <path d=\"M18.56 5.44l.94 2.06.94-2.06 2.06-.94-2.06-.94-.94-2.06-.94 2.06-2.06.94zm-11 1L8.5 8.5l.94-2.06 2.06-.94-2.06-.94L8.5 2.5l-.94 2.06-2.06.94zm10 10l.94 2.06.94-2.06 2.06-.94-2.06-.94-.94-2.06-.94 2.06-2.06.94z\"/><path d=\"M17.41 7.96l-1.37-1.37c-.4-.4-.92-.59-1.43-.59-.52 0-1.04.2-1.43.59L10.3 9.45l-7.72 7.72c-.78.78-.78 2.05 0 2.83L4 21.41c.39.39.9.59 1.41.59.51 0 1.02-.2 1.41-.59l7.78-7.78 2.81-2.81c.8-.78.8-2.07 0-2.86zM5.41 20L4 18.59l7.72-7.72 1.47 1.35L5.41 20z\"/>\n",
              "  </svg>\n",
              "      </button>\n",
              "      \n",
              "  <style>\n",
              "    .colab-df-container {\n",
              "      display:flex;\n",
              "      flex-wrap:wrap;\n",
              "      gap: 12px;\n",
              "    }\n",
              "\n",
              "    .colab-df-convert {\n",
              "      background-color: #E8F0FE;\n",
              "      border: none;\n",
              "      border-radius: 50%;\n",
              "      cursor: pointer;\n",
              "      display: none;\n",
              "      fill: #1967D2;\n",
              "      height: 32px;\n",
              "      padding: 0 0 0 0;\n",
              "      width: 32px;\n",
              "    }\n",
              "\n",
              "    .colab-df-convert:hover {\n",
              "      background-color: #E2EBFA;\n",
              "      box-shadow: 0px 1px 2px rgba(60, 64, 67, 0.3), 0px 1px 3px 1px rgba(60, 64, 67, 0.15);\n",
              "      fill: #174EA6;\n",
              "    }\n",
              "\n",
              "    [theme=dark] .colab-df-convert {\n",
              "      background-color: #3B4455;\n",
              "      fill: #D2E3FC;\n",
              "    }\n",
              "\n",
              "    [theme=dark] .colab-df-convert:hover {\n",
              "      background-color: #434B5C;\n",
              "      box-shadow: 0px 1px 3px 1px rgba(0, 0, 0, 0.15);\n",
              "      filter: drop-shadow(0px 1px 2px rgba(0, 0, 0, 0.3));\n",
              "      fill: #FFFFFF;\n",
              "    }\n",
              "  </style>\n",
              "\n",
              "      <script>\n",
              "        const buttonEl =\n",
              "          document.querySelector('#df-9bd1f663-c2ec-4dc3-b1a2-f748b2794803 button.colab-df-convert');\n",
              "        buttonEl.style.display =\n",
              "          google.colab.kernel.accessAllowed ? 'block' : 'none';\n",
              "\n",
              "        async function convertToInteractive(key) {\n",
              "          const element = document.querySelector('#df-9bd1f663-c2ec-4dc3-b1a2-f748b2794803');\n",
              "          const dataTable =\n",
              "            await google.colab.kernel.invokeFunction('convertToInteractive',\n",
              "                                                     [key], {});\n",
              "          if (!dataTable) return;\n",
              "\n",
              "          const docLinkHtml = 'Like what you see? Visit the ' +\n",
              "            '<a target=\"_blank\" href=https://colab.research.google.com/notebooks/data_table.ipynb>data table notebook</a>'\n",
              "            + ' to learn more about interactive tables.';\n",
              "          element.innerHTML = '';\n",
              "          dataTable['output_type'] = 'display_data';\n",
              "          await google.colab.output.renderOutput(dataTable, element);\n",
              "          const docLink = document.createElement('div');\n",
              "          docLink.innerHTML = docLinkHtml;\n",
              "          element.appendChild(docLink);\n",
              "        }\n",
              "      </script>\n",
              "    </div>\n",
              "  </div>\n",
              "  "
            ]
          },
          "metadata": {},
          "execution_count": 156
        }
      ]
    },
    {
      "cell_type": "code",
      "source": [
        "df[\"EdLevel\"].unique()"
      ],
      "metadata": {
        "colab": {
          "base_uri": "https://localhost:8080/"
        },
        "id": "5iHUUJp5n22E",
        "outputId": "7349cc0f-ffd0-4799-f3c9-5295e29c3c2a"
      },
      "execution_count": 157,
      "outputs": [
        {
          "output_type": "execute_result",
          "data": {
            "text/plain": [
              "array(['Secondary school (e.g. American high school, German Realschule or Gymnasium, etc.)',\n",
              "       'Bachelor’s degree (B.A., B.S., B.Eng., etc.)',\n",
              "       'Master’s degree (M.A., M.S., M.Eng., MBA, etc.)',\n",
              "       'Other doctoral degree (Ph.D., Ed.D., etc.)',\n",
              "       'Some college/university study without earning a degree',\n",
              "       'Something else', 'Professional degree (JD, MD, etc.)',\n",
              "       'Primary/elementary school', 'Associate degree (A.A., A.S., etc.)',\n",
              "       nan], dtype=object)"
            ]
          },
          "metadata": {},
          "execution_count": 157
        }
      ]
    },
    {
      "cell_type": "code",
      "source": [
        "df[\"EdLevel\"] = df[\"EdLevel\"].map(\n",
        "    {\n",
        "        \"Bachelor’s degree (B.A., B.S., B.Eng., etc.)\": \"Bachelor’s degree\",\n",
        "        \"Master’s degree (M.A., M.S., M.Eng., MBA, etc.)\": \"Master’s degree\",\n",
        "        \"Some college/university study without earning a degree\": \"Some college/university study without degree\",\n",
        "        \"Associate degree\": \"Associate degree\",\n",
        "        \"Other doctoral degree (Ph.D., Ed.D., etc.)\": \"Doctoral degree\",\n",
        "        \"Secondary school (e.g. American high school, German Realschule or Gymnasium, etc.)\": \"Secondary school\",\n",
        "        \"Professional degree (JD, MD, etc.)\": \"Professional degree\",\n",
        "        \"Primary/elementary school\": \"Primary/elementary school\",\n",
        "        \"Something else\": \"Something else\",\n",
        "    }\n",
        ")"
      ],
      "metadata": {
        "id": "SjfmpJywsv_-"
      },
      "execution_count": 158,
      "outputs": []
    },
    {
      "cell_type": "code",
      "source": [
        "companySize_to_interval = {\n",
        "    \"Just me - I am a freelancer, sole proprietor, etc.\": pd.Interval(0, 10),\n",
        "    \"10 to 19 employees\": pd.Interval(10, 19),\n",
        "    \"20 to 99 employees\": pd.Interval(20, 99),\n",
        "    \"100 to 499 employees\": pd.Interval(100, 499),\n",
        "    \"500 to 999 employees\": pd.Interval(500, 999),\n",
        "    \"1,000 to 4,999 employees\": pd.Interval(1000, 4999),\n",
        "    \"5,000 to 9,999 employees\": pd.Interval(5000, 9999),\n",
        "    \"10,000 or more employees\": pd.Interval(10000, float(\"inf\")),\n",
        "}\n",
        "\n",
        "df['OrgSize'] = df['OrgSize'].map(companySize_to_interval)"
      ],
      "metadata": {
        "id": "cPBwf1GVuJyf"
      },
      "execution_count": 159,
      "outputs": []
    },
    {
      "cell_type": "markdown",
      "source": [
        "> Since the salary is various for different countries and for different employment types, we only select the developers that are in the United States and have full-time employment as United States is considered as the highest technological country."
      ],
      "metadata": {
        "id": "PRQ6ThQviU_2"
      }
    },
    {
      "cell_type": "code",
      "source": [
        "sample = df.query(\n",
        "    \"Country == 'United States of America' & Employment == 'Employed full-time'\"\n",
        ")"
      ],
      "metadata": {
        "id": "BS5cGCOjD9pw"
      },
      "execution_count": 160,
      "outputs": []
    },
    {
      "cell_type": "markdown",
      "source": [
        "> We will also filter out extreme values of salary that are above $500,000."
      ],
      "metadata": {
        "id": "KHXcOgnBzOPa"
      }
    },
    {
      "cell_type": "code",
      "source": [
        "normal_salary = sample[sample[\"ConvertedCompYearly\"] < 500_000].copy()"
      ],
      "metadata": {
        "id": "cz6ZXDZ9ERKu"
      },
      "execution_count": 161,
      "outputs": []
    },
    {
      "cell_type": "markdown",
      "source": [
        "Besides, all respondents who did not fill their salary and years of coding should be removed."
      ],
      "metadata": {
        "id": "JPQezVCXY5-A"
      }
    },
    {
      "cell_type": "code",
      "source": [
        "normal_salary.dropna(subset=[\"ConvertedCompYearly\", \"YearsCode\"], inplace=True)"
      ],
      "metadata": {
        "id": "1-c85l-DYvPY"
      },
      "execution_count": 162,
      "outputs": []
    },
    {
      "cell_type": "code",
      "source": [
        "bins = [0, 25_000, 50_000, 75_000, 100_000, 125_000, 150_000, 300_000, 500_000]\n",
        "\n",
        "normal_salary[\"Salary_Range\"] = pd.cut(\n",
        "    normal_salary[\"ConvertedCompYearly\"], bins=bins\n",
        ")\n",
        "\n",
        "salary_groupby = normal_salary.groupby(\"Salary_Range\").agg({\"ResponseId\": \"count\"})\n",
        "salary_groupby"
      ],
      "metadata": {
        "id": "MsyfeNM4EwDD",
        "colab": {
          "base_uri": "https://localhost:8080/",
          "height": 331
        },
        "outputId": "b549d395-4a37-4e15-c962-c1afc07f7200"
      },
      "execution_count": 163,
      "outputs": [
        {
          "output_type": "execute_result",
          "data": {
            "text/plain": [
              "                  ResponseId\n",
              "Salary_Range                \n",
              "(0, 25000]                52\n",
              "(25000, 50000]           280\n",
              "(50000, 75000]           945\n",
              "(75000, 100000]         1647\n",
              "(100000, 125000]        1686\n",
              "(125000, 150000]        1581\n",
              "(150000, 300000]        2336\n",
              "(300000, 500000]         216"
            ],
            "text/html": [
              "\n",
              "  <div id=\"df-6468d4dc-1aed-4c39-b4bf-0a6f386d1f2a\">\n",
              "    <div class=\"colab-df-container\">\n",
              "      <div>\n",
              "<style scoped>\n",
              "    .dataframe tbody tr th:only-of-type {\n",
              "        vertical-align: middle;\n",
              "    }\n",
              "\n",
              "    .dataframe tbody tr th {\n",
              "        vertical-align: top;\n",
              "    }\n",
              "\n",
              "    .dataframe thead th {\n",
              "        text-align: right;\n",
              "    }\n",
              "</style>\n",
              "<table border=\"1\" class=\"dataframe\">\n",
              "  <thead>\n",
              "    <tr style=\"text-align: right;\">\n",
              "      <th></th>\n",
              "      <th>ResponseId</th>\n",
              "    </tr>\n",
              "    <tr>\n",
              "      <th>Salary_Range</th>\n",
              "      <th></th>\n",
              "    </tr>\n",
              "  </thead>\n",
              "  <tbody>\n",
              "    <tr>\n",
              "      <th>(0, 25000]</th>\n",
              "      <td>52</td>\n",
              "    </tr>\n",
              "    <tr>\n",
              "      <th>(25000, 50000]</th>\n",
              "      <td>280</td>\n",
              "    </tr>\n",
              "    <tr>\n",
              "      <th>(50000, 75000]</th>\n",
              "      <td>945</td>\n",
              "    </tr>\n",
              "    <tr>\n",
              "      <th>(75000, 100000]</th>\n",
              "      <td>1647</td>\n",
              "    </tr>\n",
              "    <tr>\n",
              "      <th>(100000, 125000]</th>\n",
              "      <td>1686</td>\n",
              "    </tr>\n",
              "    <tr>\n",
              "      <th>(125000, 150000]</th>\n",
              "      <td>1581</td>\n",
              "    </tr>\n",
              "    <tr>\n",
              "      <th>(150000, 300000]</th>\n",
              "      <td>2336</td>\n",
              "    </tr>\n",
              "    <tr>\n",
              "      <th>(300000, 500000]</th>\n",
              "      <td>216</td>\n",
              "    </tr>\n",
              "  </tbody>\n",
              "</table>\n",
              "</div>\n",
              "      <button class=\"colab-df-convert\" onclick=\"convertToInteractive('df-6468d4dc-1aed-4c39-b4bf-0a6f386d1f2a')\"\n",
              "              title=\"Convert this dataframe to an interactive table.\"\n",
              "              style=\"display:none;\">\n",
              "        \n",
              "  <svg xmlns=\"http://www.w3.org/2000/svg\" height=\"24px\"viewBox=\"0 0 24 24\"\n",
              "       width=\"24px\">\n",
              "    <path d=\"M0 0h24v24H0V0z\" fill=\"none\"/>\n",
              "    <path d=\"M18.56 5.44l.94 2.06.94-2.06 2.06-.94-2.06-.94-.94-2.06-.94 2.06-2.06.94zm-11 1L8.5 8.5l.94-2.06 2.06-.94-2.06-.94L8.5 2.5l-.94 2.06-2.06.94zm10 10l.94 2.06.94-2.06 2.06-.94-2.06-.94-.94-2.06-.94 2.06-2.06.94z\"/><path d=\"M17.41 7.96l-1.37-1.37c-.4-.4-.92-.59-1.43-.59-.52 0-1.04.2-1.43.59L10.3 9.45l-7.72 7.72c-.78.78-.78 2.05 0 2.83L4 21.41c.39.39.9.59 1.41.59.51 0 1.02-.2 1.41-.59l7.78-7.78 2.81-2.81c.8-.78.8-2.07 0-2.86zM5.41 20L4 18.59l7.72-7.72 1.47 1.35L5.41 20z\"/>\n",
              "  </svg>\n",
              "      </button>\n",
              "      \n",
              "  <style>\n",
              "    .colab-df-container {\n",
              "      display:flex;\n",
              "      flex-wrap:wrap;\n",
              "      gap: 12px;\n",
              "    }\n",
              "\n",
              "    .colab-df-convert {\n",
              "      background-color: #E8F0FE;\n",
              "      border: none;\n",
              "      border-radius: 50%;\n",
              "      cursor: pointer;\n",
              "      display: none;\n",
              "      fill: #1967D2;\n",
              "      height: 32px;\n",
              "      padding: 0 0 0 0;\n",
              "      width: 32px;\n",
              "    }\n",
              "\n",
              "    .colab-df-convert:hover {\n",
              "      background-color: #E2EBFA;\n",
              "      box-shadow: 0px 1px 2px rgba(60, 64, 67, 0.3), 0px 1px 3px 1px rgba(60, 64, 67, 0.15);\n",
              "      fill: #174EA6;\n",
              "    }\n",
              "\n",
              "    [theme=dark] .colab-df-convert {\n",
              "      background-color: #3B4455;\n",
              "      fill: #D2E3FC;\n",
              "    }\n",
              "\n",
              "    [theme=dark] .colab-df-convert:hover {\n",
              "      background-color: #434B5C;\n",
              "      box-shadow: 0px 1px 3px 1px rgba(0, 0, 0, 0.15);\n",
              "      filter: drop-shadow(0px 1px 2px rgba(0, 0, 0, 0.3));\n",
              "      fill: #FFFFFF;\n",
              "    }\n",
              "  </style>\n",
              "\n",
              "      <script>\n",
              "        const buttonEl =\n",
              "          document.querySelector('#df-6468d4dc-1aed-4c39-b4bf-0a6f386d1f2a button.colab-df-convert');\n",
              "        buttonEl.style.display =\n",
              "          google.colab.kernel.accessAllowed ? 'block' : 'none';\n",
              "\n",
              "        async function convertToInteractive(key) {\n",
              "          const element = document.querySelector('#df-6468d4dc-1aed-4c39-b4bf-0a6f386d1f2a');\n",
              "          const dataTable =\n",
              "            await google.colab.kernel.invokeFunction('convertToInteractive',\n",
              "                                                     [key], {});\n",
              "          if (!dataTable) return;\n",
              "\n",
              "          const docLinkHtml = 'Like what you see? Visit the ' +\n",
              "            '<a target=\"_blank\" href=https://colab.research.google.com/notebooks/data_table.ipynb>data table notebook</a>'\n",
              "            + ' to learn more about interactive tables.';\n",
              "          element.innerHTML = '';\n",
              "          dataTable['output_type'] = 'display_data';\n",
              "          await google.colab.output.renderOutput(dataTable, element);\n",
              "          const docLink = document.createElement('div');\n",
              "          docLink.innerHTML = docLinkHtml;\n",
              "          element.appendChild(docLink);\n",
              "        }\n",
              "      </script>\n",
              "    </div>\n",
              "  </div>\n",
              "  "
            ]
          },
          "metadata": {},
          "execution_count": 163
        }
      ]
    },
    {
      "cell_type": "code",
      "source": [
        "salary_groupby.plot(kind=\"bar\")\n",
        "plt.xticks(rotation=30, ha=\"right\", fontsize=\"x-large\")\n",
        "plt.legend(fontsize=\"large\", loc=\"best\", labels=[\"Respondent\"])\n",
        "plt.xlabel(\"Salary Range\", fontsize=\"xx-large\")\n",
        "plt.ylabel(\"Number of Respondents\", fontsize=\"xx-large\")\n",
        "plt.rcParams['figure.figsize'] = [10,6]\n",
        "plt.show()\n"
      ],
      "metadata": {
        "colab": {
          "base_uri": "https://localhost:8080/",
          "height": 681
        },
        "id": "4hlS2gJczoQY",
        "outputId": "2275bd0b-9621-49b4-bfe3-a38e987933e0"
      },
      "execution_count": 164,
      "outputs": [
        {
          "output_type": "display_data",
          "data": {
            "text/plain": [
              "<Figure size 1440x720 with 1 Axes>"
            ],
            "image/png": "[encoded data removed]"
          },
          "metadata": {
            "needs_background": "light"
          }
        }
      ]
    },
    {
      "cell_type": "code",
      "source": [
        "normal_salary[\"YearsCode\"].replace({'Less than 1 year': 0, 'More than 50 years': 50}, inplace=True)"
      ],
      "metadata": {
        "id": "ZOzgCvVD7Xff"
      },
      "execution_count": 165,
      "outputs": []
    },
    {
      "cell_type": "code",
      "source": [
        "normal_salary"
      ],
      "metadata": {
        "colab": {
          "base_uri": "https://localhost:8080/",
          "height": 1000
        },
        "id": "xjRSYqWKZgTY",
        "outputId": "83086b2d-506a-4e79-db1e-166f0731ef8b"
      },
      "execution_count": 166,
      "outputs": [
        {
          "output_type": "execute_result",
          "data": {
            "text/plain": [
              "       ResponseId                                         MainBranch  \\\n",
              "36             37                     I am a developer by profession   \n",
              "37             38                     I am a developer by profession   \n",
              "62             63  I am not primarily a developer, but I write co...   \n",
              "75             76                     I am a developer by profession   \n",
              "87             88                     I am a developer by profession   \n",
              "...           ...                                                ...   \n",
              "83404       83405                     I am a developer by profession   \n",
              "83416       83417                     I am a developer by profession   \n",
              "83430       83431                     I am a developer by profession   \n",
              "83434       83435                     I am a developer by profession   \n",
              "83436       83437                     I am a developer by profession   \n",
              "\n",
              "               Employment                   Country              US_State  \\\n",
              "36     Employed full-time  United States of America  District of Columbia   \n",
              "37     Employed full-time  United States of America         Massachusetts   \n",
              "62     Employed full-time  United States of America              New York   \n",
              "75     Employed full-time  United States of America             Minnesota   \n",
              "87     Employed full-time  United States of America              Maryland   \n",
              "...                   ...                       ...                   ...   \n",
              "83404  Employed full-time  United States of America            California   \n",
              "83416  Employed full-time  United States of America            New Mexico   \n",
              "83430  Employed full-time  United States of America              Illinois   \n",
              "83434  Employed full-time  United States of America                 Texas   \n",
              "83436  Employed full-time  United States of America            New Jersey   \n",
              "\n",
              "      UK_Country                                       EdLevel     Age1stCode  \\\n",
              "36           NaN                             Bachelor’s degree  11 - 17 years   \n",
              "37           NaN  Some college/university study without degree  18 - 24 years   \n",
              "62           NaN                             Bachelor’s degree  11 - 17 years   \n",
              "75           NaN                             Bachelor’s degree  11 - 17 years   \n",
              "87           NaN                               Doctoral degree  11 - 17 years   \n",
              "...          ...                                           ...            ...   \n",
              "83404        NaN                             Bachelor’s degree  18 - 24 years   \n",
              "83416        NaN                             Bachelor’s degree  11 - 17 years   \n",
              "83430        NaN                               Master’s degree  11 - 17 years   \n",
              "83434        NaN                             Bachelor’s degree  11 - 17 years   \n",
              "83436        NaN                              Secondary school  11 - 17 years   \n",
              "\n",
              "                                               LearnCode YearsCode  ...  \\\n",
              "36     Other online resources (ex: videos, blogs, etc...         8  ...   \n",
              "37       Other online resources (ex: videos, blogs, etc)        20  ...   \n",
              "62                                          Online Forum        13  ...   \n",
              "75     Other online resources (ex: videos, blogs, etc...        25  ...   \n",
              "87     Other online resources (ex: videos, blogs, etc...        18  ...   \n",
              "...                                                  ...       ...  ...   \n",
              "83404  Other online resources (ex: videos, blogs, etc...         4  ...   \n",
              "83416  School;Friend or family member;Books / Physica...        34  ...   \n",
              "83430  Other online resources (ex: videos, blogs, etc...        23  ...   \n",
              "83434  Other online resources (ex: videos, blogs, etc...         6  ...   \n",
              "83436                                             School        10  ...   \n",
              "\n",
              "      Gender Trans                Sexuality  \\\n",
              "36       Man    No  Straight / Heterosexual   \n",
              "37       Man    No  Straight / Heterosexual   \n",
              "62       Man    No  Straight / Heterosexual   \n",
              "75       Man    No  Straight / Heterosexual   \n",
              "87       Man    No  Straight / Heterosexual   \n",
              "...      ...   ...                      ...   \n",
              "83404    Man    No  Straight / Heterosexual   \n",
              "83416    Man    No  Straight / Heterosexual   \n",
              "83430    Man    No  Straight / Heterosexual   \n",
              "83434    Man    No  Straight / Heterosexual   \n",
              "83436    Man    No                      NaN   \n",
              "\n",
              "                                               Ethnicity      Accessibility  \\\n",
              "36                          White or of European descent  None of the above   \n",
              "37                          White or of European descent  None of the above   \n",
              "62                                                   NaN                NaN   \n",
              "75                          White or of European descent  None of the above   \n",
              "87                                           South Asian  None of the above   \n",
              "...                                                  ...                ...   \n",
              "83404  White or of European descent;Hispanic or Latin...  None of the above   \n",
              "83416                             Hispanic or Latino/a/x  None of the above   \n",
              "83430                       White or of European descent  None of the above   \n",
              "83434                       White or of European descent  None of the above   \n",
              "83436                       White or of European descent  None of the above   \n",
              "\n",
              "                                            MentalHealth  \\\n",
              "36                                     Prefer not to say   \n",
              "37     I have a concentration and/or memory disorder ...   \n",
              "62     I have a concentration and/or memory disorder ...   \n",
              "75                                     None of the above   \n",
              "87                                     None of the above   \n",
              "...                                                  ...   \n",
              "83404  I have a mood or emotional disorder (e.g. depr...   \n",
              "83416                                  None of the above   \n",
              "83430                                  None of the above   \n",
              "83434  I have a concentration and/or memory disorder ...   \n",
              "83436                                  None of the above   \n",
              "\n",
              "                SurveyLength                  SurveyEase ConvertedCompYearly  \\\n",
              "36                 Too short                        Easy            103000.0   \n",
              "37     Appropriate in length                        Easy            300000.0   \n",
              "62     Appropriate in length                        Easy            130000.0   \n",
              "75     Appropriate in length                        Easy            105000.0   \n",
              "87     Appropriate in length                        Easy            100000.0   \n",
              "...                      ...                         ...                 ...   \n",
              "83404  Appropriate in length                        Easy             85000.0   \n",
              "83416  Appropriate in length                        Easy             15500.0   \n",
              "83430  Appropriate in length                        Easy            125000.0   \n",
              "83434  Appropriate in length                        Easy            160500.0   \n",
              "83436  Appropriate in length  Neither easy nor difficult             90000.0   \n",
              "\n",
              "           Salary_Range  \n",
              "36     (100000, 125000]  \n",
              "37     (150000, 300000]  \n",
              "62     (125000, 150000]  \n",
              "75     (100000, 125000]  \n",
              "87      (75000, 100000]  \n",
              "...                 ...  \n",
              "83404   (75000, 100000]  \n",
              "83416        (0, 25000]  \n",
              "83430  (100000, 125000]  \n",
              "83434  (150000, 300000]  \n",
              "83436   (75000, 100000]  \n",
              "\n",
              "[8743 rows x 49 columns]"
            ],
            "text/html": [
              "\n",
              "  <div id=\"df-b42211f8-f942-4b12-a42e-200eb8c63d2d\">\n",
              "    <div class=\"colab-df-container\">\n",
              "      <div>\n",
              "<style scoped>\n",
              "    .dataframe tbody tr th:only-of-type {\n",
              "        vertical-align: middle;\n",
              "    }\n",
              "\n",
              "    .dataframe tbody tr th {\n",
              "        vertical-align: top;\n",
              "    }\n",
              "\n",
              "    .dataframe thead th {\n",
              "        text-align: right;\n",
              "    }\n",
              "</style>\n",
              "<table border=\"1\" class=\"dataframe\">\n",
              "  <thead>\n",
              "    <tr style=\"text-align: right;\">\n",
              "      <th></th>\n",
              "      <th>ResponseId</th>\n",
              "      <th>MainBranch</th>\n",
              "      <th>Employment</th>\n",
              "      <th>Country</th>\n",
              "      <th>US_State</th>\n",
              "      <th>UK_Country</th>\n",
              "      <th>EdLevel</th>\n",
              "      <th>Age1stCode</th>\n",
              "      <th>LearnCode</th>\n",
              "      <th>YearsCode</th>\n",
              "      <th>...</th>\n",
              "      <th>Gender</th>\n",
              "      <th>Trans</th>\n",
              "      <th>Sexuality</th>\n",
              "      <th>Ethnicity</th>\n",
              "      <th>Accessibility</th>\n",
              "      <th>MentalHealth</th>\n",
              "      <th>SurveyLength</th>\n",
              "      <th>SurveyEase</th>\n",
              "      <th>ConvertedCompYearly</th>\n",
              "      <th>Salary_Range</th>\n",
              "    </tr>\n",
              "  </thead>\n",
              "  <tbody>\n",
              "    <tr>\n",
              "      <th>36</th>\n",
              "      <td>37</td>\n",
              "      <td>I am a developer by profession</td>\n",
              "      <td>Employed full-time</td>\n",
              "      <td>United States of America</td>\n",
              "      <td>District of Columbia</td>\n",
              "      <td>NaN</td>\n",
              "      <td>Bachelor’s degree</td>\n",
              "      <td>11 - 17 years</td>\n",
              "      <td>Other online resources (ex: videos, blogs, etc...</td>\n",
              "      <td>8</td>\n",
              "      <td>...</td>\n",
              "      <td>Man</td>\n",
              "      <td>No</td>\n",
              "      <td>Straight / Heterosexual</td>\n",
              "      <td>White or of European descent</td>\n",
              "      <td>None of the above</td>\n",
              "      <td>Prefer not to say</td>\n",
              "      <td>Too short</td>\n",
              "      <td>Easy</td>\n",
              "      <td>103000.0</td>\n",
              "      <td>(100000, 125000]</td>\n",
              "    </tr>\n",
              "    <tr>\n",
              "      <th>37</th>\n",
              "      <td>38</td>\n",
              "      <td>I am a developer by profession</td>\n",
              "      <td>Employed full-time</td>\n",
              "      <td>United States of America</td>\n",
              "      <td>Massachusetts</td>\n",
              "      <td>NaN</td>\n",
              "      <td>Some college/university study without degree</td>\n",
              "      <td>18 - 24 years</td>\n",
              "      <td>Other online resources (ex: videos, blogs, etc)</td>\n",
              "      <td>20</td>\n",
              "      <td>...</td>\n",
              "      <td>Man</td>\n",
              "      <td>No</td>\n",
              "      <td>Straight / Heterosexual</td>\n",
              "      <td>White or of European descent</td>\n",
              "      <td>None of the above</td>\n",
              "      <td>I have a concentration and/or memory disorder ...</td>\n",
              "      <td>Appropriate in length</td>\n",
              "      <td>Easy</td>\n",
              "      <td>300000.0</td>\n",
              "      <td>(150000, 300000]</td>\n",
              "    </tr>\n",
              "    <tr>\n",
              "      <th>62</th>\n",
              "      <td>63</td>\n",
              "      <td>I am not primarily a developer, but I write co...</td>\n",
              "      <td>Employed full-time</td>\n",
              "      <td>United States of America</td>\n",
              "      <td>New York</td>\n",
              "      <td>NaN</td>\n",
              "      <td>Bachelor’s degree</td>\n",
              "      <td>11 - 17 years</td>\n",
              "      <td>Online Forum</td>\n",
              "      <td>13</td>\n",
              "      <td>...</td>\n",
              "      <td>Man</td>\n",
              "      <td>No</td>\n",
              "      <td>Straight / Heterosexual</td>\n",
              "      <td>NaN</td>\n",
              "      <td>NaN</td>\n",
              "      <td>I have a concentration and/or memory disorder ...</td>\n",
              "      <td>Appropriate in length</td>\n",
              "      <td>Easy</td>\n",
              "      <td>130000.0</td>\n",
              "      <td>(125000, 150000]</td>\n",
              "    </tr>\n",
              "    <tr>\n",
              "      <th>75</th>\n",
              "      <td>76</td>\n",
              "      <td>I am a developer by profession</td>\n",
              "      <td>Employed full-time</td>\n",
              "      <td>United States of America</td>\n",
              "      <td>Minnesota</td>\n",
              "      <td>NaN</td>\n",
              "      <td>Bachelor’s degree</td>\n",
              "      <td>11 - 17 years</td>\n",
              "      <td>Other online resources (ex: videos, blogs, etc...</td>\n",
              "      <td>25</td>\n",
              "      <td>...</td>\n",
              "      <td>Man</td>\n",
              "      <td>No</td>\n",
              "      <td>Straight / Heterosexual</td>\n",
              "      <td>White or of European descent</td>\n",
              "      <td>None of the above</td>\n",
              "      <td>None of the above</td>\n",
              "      <td>Appropriate in length</td>\n",
              "      <td>Easy</td>\n",
              "      <td>105000.0</td>\n",
              "      <td>(100000, 125000]</td>\n",
              "    </tr>\n",
              "    <tr>\n",
              "      <th>87</th>\n",
              "      <td>88</td>\n",
              "      <td>I am a developer by profession</td>\n",
              "      <td>Employed full-time</td>\n",
              "      <td>United States of America</td>\n",
              "      <td>Maryland</td>\n",
              "      <td>NaN</td>\n",
              "      <td>Doctoral degree</td>\n",
              "      <td>11 - 17 years</td>\n",
              "      <td>Other online resources (ex: videos, blogs, etc...</td>\n",
              "      <td>18</td>\n",
              "      <td>...</td>\n",
              "      <td>Man</td>\n",
              "      <td>No</td>\n",
              "      <td>Straight / Heterosexual</td>\n",
              "      <td>South Asian</td>\n",
              "      <td>None of the above</td>\n",
              "      <td>None of the above</td>\n",
              "      <td>Appropriate in length</td>\n",
              "      <td>Easy</td>\n",
              "      <td>100000.0</td>\n",
              "      <td>(75000, 100000]</td>\n",
              "    </tr>\n",
              "    <tr>\n",
              "      <th>...</th>\n",
              "      <td>...</td>\n",
              "      <td>...</td>\n",
              "      <td>...</td>\n",
              "      <td>...</td>\n",
              "      <td>...</td>\n",
              "      <td>...</td>\n",
              "      <td>...</td>\n",
              "      <td>...</td>\n",
              "      <td>...</td>\n",
              "      <td>...</td>\n",
              "      <td>...</td>\n",
              "      <td>...</td>\n",
              "      <td>...</td>\n",
              "      <td>...</td>\n",
              "      <td>...</td>\n",
              "      <td>...</td>\n",
              "      <td>...</td>\n",
              "      <td>...</td>\n",
              "      <td>...</td>\n",
              "      <td>...</td>\n",
              "      <td>...</td>\n",
              "    </tr>\n",
              "    <tr>\n",
              "      <th>83404</th>\n",
              "      <td>83405</td>\n",
              "      <td>I am a developer by profession</td>\n",
              "      <td>Employed full-time</td>\n",
              "      <td>United States of America</td>\n",
              "      <td>California</td>\n",
              "      <td>NaN</td>\n",
              "      <td>Bachelor’s degree</td>\n",
              "      <td>18 - 24 years</td>\n",
              "      <td>Other online resources (ex: videos, blogs, etc...</td>\n",
              "      <td>4</td>\n",
              "      <td>...</td>\n",
              "      <td>Man</td>\n",
              "      <td>No</td>\n",
              "      <td>Straight / Heterosexual</td>\n",
              "      <td>White or of European descent;Hispanic or Latin...</td>\n",
              "      <td>None of the above</td>\n",
              "      <td>I have a mood or emotional disorder (e.g. depr...</td>\n",
              "      <td>Appropriate in length</td>\n",
              "      <td>Easy</td>\n",
              "      <td>85000.0</td>\n",
              "      <td>(75000, 100000]</td>\n",
              "    </tr>\n",
              "    <tr>\n",
              "      <th>83416</th>\n",
              "      <td>83417</td>\n",
              "      <td>I am a developer by profession</td>\n",
              "      <td>Employed full-time</td>\n",
              "      <td>United States of America</td>\n",
              "      <td>New Mexico</td>\n",
              "      <td>NaN</td>\n",
              "      <td>Bachelor’s degree</td>\n",
              "      <td>11 - 17 years</td>\n",
              "      <td>School;Friend or family member;Books / Physica...</td>\n",
              "      <td>34</td>\n",
              "      <td>...</td>\n",
              "      <td>Man</td>\n",
              "      <td>No</td>\n",
              "      <td>Straight / Heterosexual</td>\n",
              "      <td>Hispanic or Latino/a/x</td>\n",
              "      <td>None of the above</td>\n",
              "      <td>None of the above</td>\n",
              "      <td>Appropriate in length</td>\n",
              "      <td>Easy</td>\n",
              "      <td>15500.0</td>\n",
              "      <td>(0, 25000]</td>\n",
              "    </tr>\n",
              "    <tr>\n",
              "      <th>83430</th>\n",
              "      <td>83431</td>\n",
              "      <td>I am a developer by profession</td>\n",
              "      <td>Employed full-time</td>\n",
              "      <td>United States of America</td>\n",
              "      <td>Illinois</td>\n",
              "      <td>NaN</td>\n",
              "      <td>Master’s degree</td>\n",
              "      <td>11 - 17 years</td>\n",
              "      <td>Other online resources (ex: videos, blogs, etc...</td>\n",
              "      <td>23</td>\n",
              "      <td>...</td>\n",
              "      <td>Man</td>\n",
              "      <td>No</td>\n",
              "      <td>Straight / Heterosexual</td>\n",
              "      <td>White or of European descent</td>\n",
              "      <td>None of the above</td>\n",
              "      <td>None of the above</td>\n",
              "      <td>Appropriate in length</td>\n",
              "      <td>Easy</td>\n",
              "      <td>125000.0</td>\n",
              "      <td>(100000, 125000]</td>\n",
              "    </tr>\n",
              "    <tr>\n",
              "      <th>83434</th>\n",
              "      <td>83435</td>\n",
              "      <td>I am a developer by profession</td>\n",
              "      <td>Employed full-time</td>\n",
              "      <td>United States of America</td>\n",
              "      <td>Texas</td>\n",
              "      <td>NaN</td>\n",
              "      <td>Bachelor’s degree</td>\n",
              "      <td>11 - 17 years</td>\n",
              "      <td>Other online resources (ex: videos, blogs, etc...</td>\n",
              "      <td>6</td>\n",
              "      <td>...</td>\n",
              "      <td>Man</td>\n",
              "      <td>No</td>\n",
              "      <td>Straight / Heterosexual</td>\n",
              "      <td>White or of European descent</td>\n",
              "      <td>None of the above</td>\n",
              "      <td>I have a concentration and/or memory disorder ...</td>\n",
              "      <td>Appropriate in length</td>\n",
              "      <td>Easy</td>\n",
              "      <td>160500.0</td>\n",
              "      <td>(150000, 300000]</td>\n",
              "    </tr>\n",
              "    <tr>\n",
              "      <th>83436</th>\n",
              "      <td>83437</td>\n",
              "      <td>I am a developer by profession</td>\n",
              "      <td>Employed full-time</td>\n",
              "      <td>United States of America</td>\n",
              "      <td>New Jersey</td>\n",
              "      <td>NaN</td>\n",
              "      <td>Secondary school</td>\n",
              "      <td>11 - 17 years</td>\n",
              "      <td>School</td>\n",
              "      <td>10</td>\n",
              "      <td>...</td>\n",
              "      <td>Man</td>\n",
              "      <td>No</td>\n",
              "      <td>NaN</td>\n",
              "      <td>White or of European descent</td>\n",
              "      <td>None of the above</td>\n",
              "      <td>None of the above</td>\n",
              "      <td>Appropriate in length</td>\n",
              "      <td>Neither easy nor difficult</td>\n",
              "      <td>90000.0</td>\n",
              "      <td>(75000, 100000]</td>\n",
              "    </tr>\n",
              "  </tbody>\n",
              "</table>\n",
              "<p>8743 rows × 49 columns</p>\n",
              "</div>\n",
              "      <button class=\"colab-df-convert\" onclick=\"convertToInteractive('df-b42211f8-f942-4b12-a42e-200eb8c63d2d')\"\n",
              "              title=\"Convert this dataframe to an interactive table.\"\n",
              "              style=\"display:none;\">\n",
              "        \n",
              "  <svg xmlns=\"http://www.w3.org/2000/svg\" height=\"24px\"viewBox=\"0 0 24 24\"\n",
              "       width=\"24px\">\n",
              "    <path d=\"M0 0h24v24H0V0z\" fill=\"none\"/>\n",
              "    <path d=\"M18.56 5.44l.94 2.06.94-2.06 2.06-.94-2.06-.94-.94-2.06-.94 2.06-2.06.94zm-11 1L8.5 8.5l.94-2.06 2.06-.94-2.06-.94L8.5 2.5l-.94 2.06-2.06.94zm10 10l.94 2.06.94-2.06 2.06-.94-2.06-.94-.94-2.06-.94 2.06-2.06.94z\"/><path d=\"M17.41 7.96l-1.37-1.37c-.4-.4-.92-.59-1.43-.59-.52 0-1.04.2-1.43.59L10.3 9.45l-7.72 7.72c-.78.78-.78 2.05 0 2.83L4 21.41c.39.39.9.59 1.41.59.51 0 1.02-.2 1.41-.59l7.78-7.78 2.81-2.81c.8-.78.8-2.07 0-2.86zM5.41 20L4 18.59l7.72-7.72 1.47 1.35L5.41 20z\"/>\n",
              "  </svg>\n",
              "      </button>\n",
              "      \n",
              "  <style>\n",
              "    .colab-df-container {\n",
              "      display:flex;\n",
              "      flex-wrap:wrap;\n",
              "      gap: 12px;\n",
              "    }\n",
              "\n",
              "    .colab-df-convert {\n",
              "      background-color: #E8F0FE;\n",
              "      border: none;\n",
              "      border-radius: 50%;\n",
              "      cursor: pointer;\n",
              "      display: none;\n",
              "      fill: #1967D2;\n",
              "      height: 32px;\n",
              "      padding: 0 0 0 0;\n",
              "      width: 32px;\n",
              "    }\n",
              "\n",
              "    .colab-df-convert:hover {\n",
              "      background-color: #E2EBFA;\n",
              "      box-shadow: 0px 1px 2px rgba(60, 64, 67, 0.3), 0px 1px 3px 1px rgba(60, 64, 67, 0.15);\n",
              "      fill: #174EA6;\n",
              "    }\n",
              "\n",
              "    [theme=dark] .colab-df-convert {\n",
              "      background-color: #3B4455;\n",
              "      fill: #D2E3FC;\n",
              "    }\n",
              "\n",
              "    [theme=dark] .colab-df-convert:hover {\n",
              "      background-color: #434B5C;\n",
              "      box-shadow: 0px 1px 3px 1px rgba(0, 0, 0, 0.15);\n",
              "      filter: drop-shadow(0px 1px 2px rgba(0, 0, 0, 0.3));\n",
              "      fill: #FFFFFF;\n",
              "    }\n",
              "  </style>\n",
              "\n",
              "      <script>\n",
              "        const buttonEl =\n",
              "          document.querySelector('#df-b42211f8-f942-4b12-a42e-200eb8c63d2d button.colab-df-convert');\n",
              "        buttonEl.style.display =\n",
              "          google.colab.kernel.accessAllowed ? 'block' : 'none';\n",
              "\n",
              "        async function convertToInteractive(key) {\n",
              "          const element = document.querySelector('#df-b42211f8-f942-4b12-a42e-200eb8c63d2d');\n",
              "          const dataTable =\n",
              "            await google.colab.kernel.invokeFunction('convertToInteractive',\n",
              "                                                     [key], {});\n",
              "          if (!dataTable) return;\n",
              "\n",
              "          const docLinkHtml = 'Like what you see? Visit the ' +\n",
              "            '<a target=\"_blank\" href=https://colab.research.google.com/notebooks/data_table.ipynb>data table notebook</a>'\n",
              "            + ' to learn more about interactive tables.';\n",
              "          element.innerHTML = '';\n",
              "          dataTable['output_type'] = 'display_data';\n",
              "          await google.colab.output.renderOutput(dataTable, element);\n",
              "          const docLink = document.createElement('div');\n",
              "          docLink.innerHTML = docLinkHtml;\n",
              "          element.appendChild(docLink);\n",
              "        }\n",
              "      </script>\n",
              "    </div>\n",
              "  </div>\n",
              "  "
            ]
          },
          "metadata": {},
          "execution_count": 166
        }
      ]
    },
    {
      "cell_type": "code",
      "source": [
        "# normal_salary[\"YearsCode\"].astype('int')\n",
        "normal_salary[\"YearsCode\"] = normal_salary[\"YearsCode\"].astype(int)"
      ],
      "metadata": {
        "id": "CUhDhsYyVBNg"
      },
      "execution_count": 167,
      "outputs": []
    },
    {
      "cell_type": "code",
      "source": [
        "# Group by years of code range\n",
        "bins = [0, 3, 5, 7, 9, 11, 15, 20, 30, 50]\n",
        "\n",
        "normal_salary[\"YearsCoding_Range\"] = pd.cut(\n",
        "    normal_salary[\"YearsCode\"], bins=bins\n",
        ")\n",
        "\n",
        "yearsCoding_groupby = normal_salary.groupby(\"YearsCoding_Range\").agg({\"ResponseId\": \"count\"})\n",
        "yearsCoding_groupby"
      ],
      "metadata": {
        "id": "X-V24ZYZ8ttq",
        "colab": {
          "base_uri": "https://localhost:8080/",
          "height": 363
        },
        "outputId": "c0009462-e855-4602-be5a-3a15d841de47"
      },
      "execution_count": 168,
      "outputs": [
        {
          "output_type": "execute_result",
          "data": {
            "text/plain": [
              "                   ResponseId\n",
              "YearsCoding_Range            \n",
              "(0, 3]                    251\n",
              "(3, 5]                    610\n",
              "(5, 7]                    912\n",
              "(7, 9]                    765\n",
              "(9, 11]                   998\n",
              "(11, 15]                 1331\n",
              "(15, 20]                 1245\n",
              "(20, 30]                 1537\n",
              "(30, 50]                 1088"
            ],
            "text/html": [
              "\n",
              "  <div id=\"df-e7767911-aba6-4a8c-b6a1-60de129f8786\">\n",
              "    <div class=\"colab-df-container\">\n",
              "      <div>\n",
              "<style scoped>\n",
              "    .dataframe tbody tr th:only-of-type {\n",
              "        vertical-align: middle;\n",
              "    }\n",
              "\n",
              "    .dataframe tbody tr th {\n",
              "        vertical-align: top;\n",
              "    }\n",
              "\n",
              "    .dataframe thead th {\n",
              "        text-align: right;\n",
              "    }\n",
              "</style>\n",
              "<table border=\"1\" class=\"dataframe\">\n",
              "  <thead>\n",
              "    <tr style=\"text-align: right;\">\n",
              "      <th></th>\n",
              "      <th>ResponseId</th>\n",
              "    </tr>\n",
              "    <tr>\n",
              "      <th>YearsCoding_Range</th>\n",
              "      <th></th>\n",
              "    </tr>\n",
              "  </thead>\n",
              "  <tbody>\n",
              "    <tr>\n",
              "      <th>(0, 3]</th>\n",
              "      <td>251</td>\n",
              "    </tr>\n",
              "    <tr>\n",
              "      <th>(3, 5]</th>\n",
              "      <td>610</td>\n",
              "    </tr>\n",
              "    <tr>\n",
              "      <th>(5, 7]</th>\n",
              "      <td>912</td>\n",
              "    </tr>\n",
              "    <tr>\n",
              "      <th>(7, 9]</th>\n",
              "      <td>765</td>\n",
              "    </tr>\n",
              "    <tr>\n",
              "      <th>(9, 11]</th>\n",
              "      <td>998</td>\n",
              "    </tr>\n",
              "    <tr>\n",
              "      <th>(11, 15]</th>\n",
              "      <td>1331</td>\n",
              "    </tr>\n",
              "    <tr>\n",
              "      <th>(15, 20]</th>\n",
              "      <td>1245</td>\n",
              "    </tr>\n",
              "    <tr>\n",
              "      <th>(20, 30]</th>\n",
              "      <td>1537</td>\n",
              "    </tr>\n",
              "    <tr>\n",
              "      <th>(30, 50]</th>\n",
              "      <td>1088</td>\n",
              "    </tr>\n",
              "  </tbody>\n",
              "</table>\n",
              "</div>\n",
              "      <button class=\"colab-df-convert\" onclick=\"convertToInteractive('df-e7767911-aba6-4a8c-b6a1-60de129f8786')\"\n",
              "              title=\"Convert this dataframe to an interactive table.\"\n",
              "              style=\"display:none;\">\n",
              "        \n",
              "  <svg xmlns=\"http://www.w3.org/2000/svg\" height=\"24px\"viewBox=\"0 0 24 24\"\n",
              "       width=\"24px\">\n",
              "    <path d=\"M0 0h24v24H0V0z\" fill=\"none\"/>\n",
              "    <path d=\"M18.56 5.44l.94 2.06.94-2.06 2.06-.94-2.06-.94-.94-2.06-.94 2.06-2.06.94zm-11 1L8.5 8.5l.94-2.06 2.06-.94-2.06-.94L8.5 2.5l-.94 2.06-2.06.94zm10 10l.94 2.06.94-2.06 2.06-.94-2.06-.94-.94-2.06-.94 2.06-2.06.94z\"/><path d=\"M17.41 7.96l-1.37-1.37c-.4-.4-.92-.59-1.43-.59-.52 0-1.04.2-1.43.59L10.3 9.45l-7.72 7.72c-.78.78-.78 2.05 0 2.83L4 21.41c.39.39.9.59 1.41.59.51 0 1.02-.2 1.41-.59l7.78-7.78 2.81-2.81c.8-.78.8-2.07 0-2.86zM5.41 20L4 18.59l7.72-7.72 1.47 1.35L5.41 20z\"/>\n",
              "  </svg>\n",
              "      </button>\n",
              "      \n",
              "  <style>\n",
              "    .colab-df-container {\n",
              "      display:flex;\n",
              "      flex-wrap:wrap;\n",
              "      gap: 12px;\n",
              "    }\n",
              "\n",
              "    .colab-df-convert {\n",
              "      background-color: #E8F0FE;\n",
              "      border: none;\n",
              "      border-radius: 50%;\n",
              "      cursor: pointer;\n",
              "      display: none;\n",
              "      fill: #1967D2;\n",
              "      height: 32px;\n",
              "      padding: 0 0 0 0;\n",
              "      width: 32px;\n",
              "    }\n",
              "\n",
              "    .colab-df-convert:hover {\n",
              "      background-color: #E2EBFA;\n",
              "      box-shadow: 0px 1px 2px rgba(60, 64, 67, 0.3), 0px 1px 3px 1px rgba(60, 64, 67, 0.15);\n",
              "      fill: #174EA6;\n",
              "    }\n",
              "\n",
              "    [theme=dark] .colab-df-convert {\n",
              "      background-color: #3B4455;\n",
              "      fill: #D2E3FC;\n",
              "    }\n",
              "\n",
              "    [theme=dark] .colab-df-convert:hover {\n",
              "      background-color: #434B5C;\n",
              "      box-shadow: 0px 1px 3px 1px rgba(0, 0, 0, 0.15);\n",
              "      filter: drop-shadow(0px 1px 2px rgba(0, 0, 0, 0.3));\n",
              "      fill: #FFFFFF;\n",
              "    }\n",
              "  </style>\n",
              "\n",
              "      <script>\n",
              "        const buttonEl =\n",
              "          document.querySelector('#df-e7767911-aba6-4a8c-b6a1-60de129f8786 button.colab-df-convert');\n",
              "        buttonEl.style.display =\n",
              "          google.colab.kernel.accessAllowed ? 'block' : 'none';\n",
              "\n",
              "        async function convertToInteractive(key) {\n",
              "          const element = document.querySelector('#df-e7767911-aba6-4a8c-b6a1-60de129f8786');\n",
              "          const dataTable =\n",
              "            await google.colab.kernel.invokeFunction('convertToInteractive',\n",
              "                                                     [key], {});\n",
              "          if (!dataTable) return;\n",
              "\n",
              "          const docLinkHtml = 'Like what you see? Visit the ' +\n",
              "            '<a target=\"_blank\" href=https://colab.research.google.com/notebooks/data_table.ipynb>data table notebook</a>'\n",
              "            + ' to learn more about interactive tables.';\n",
              "          element.innerHTML = '';\n",
              "          dataTable['output_type'] = 'display_data';\n",
              "          await google.colab.output.renderOutput(dataTable, element);\n",
              "          const docLink = document.createElement('div');\n",
              "          docLink.innerHTML = docLinkHtml;\n",
              "          element.appendChild(docLink);\n",
              "        }\n",
              "      </script>\n",
              "    </div>\n",
              "  </div>\n",
              "  "
            ]
          },
          "metadata": {},
          "execution_count": 168
        }
      ]
    },
    {
      "cell_type": "code",
      "source": [
        "normal_salary.dropna(subset=[\"YearsCoding_Range\"], inplace=True)"
      ],
      "metadata": {
        "id": "PYalfuhtezst"
      },
      "execution_count": 169,
      "outputs": []
    },
    {
      "cell_type": "code",
      "source": [
        "yearsCoding_groupby.plot(kind=\"bar\", color=\"lightcoral\")\n",
        "plt.xticks(rotation=30, ha=\"right\", fontsize=\"x-large\")\n",
        "plt.legend(fontsize=\"large\", loc=\"best\", labels=[\"Respondent\"])\n",
        "plt.xlabel(\"Years of Coding Range\", fontsize=\"xx-large\")\n",
        "plt.ylabel(\"Number of Respondents\", fontsize=\"xx-large\")\n",
        "plt.rcParams['figure.figsize'] = [12,7]\n",
        "plt.show()\n"
      ],
      "metadata": {
        "colab": {
          "base_uri": "https://localhost:8080/",
          "height": 428
        },
        "id": "7C1h4QrHc_W_",
        "outputId": "8c7622b5-384b-4a5a-ac29-aaa55743c898"
      },
      "execution_count": 170,
      "outputs": [
        {
          "output_type": "display_data",
          "data": {
            "text/plain": [
              "<Figure size 720x432 with 1 Axes>"
            ],
            "image/png": "[encoded data removed]"
          },
          "metadata": {
            "needs_background": "light"
          }
        }
      ]
    },
    {
      "cell_type": "code",
      "source": [
        "# Sort by years of coding\n",
        "years_sorted = normal_salary.sort_values(by=\"YearsCode\")"
      ],
      "metadata": {
        "id": "o8bfohukS5X6"
      },
      "execution_count": 171,
      "outputs": []
    },
    {
      "cell_type": "code",
      "source": [
        "sns.boxplot(data=years_sorted, x=\"YearsCoding_Range\", y=\"ConvertedCompYearly\")\n",
        "plt.xticks(rotation=30, ha=\"right\", fontsize=\"xx-large\")\n",
        "plt.xlabel(\"Years of Coding Range\", fontsize=\"xx-large\")\n",
        "plt.ylabel(\"Yearly Salary\", fontsize=\"xx-large\")\n",
        "plt.rcParams['figure.figsize'] = [20,12]\n",
        "plt.show()"
      ],
      "metadata": {
        "colab": {
          "base_uri": "https://localhost:8080/",
          "height": 490
        },
        "id": "a5HMU2sfd0fw",
        "outputId": "57023dc4-988c-450c-dbc3-814f13e22067"
      },
      "execution_count": 172,
      "outputs": [
        {
          "output_type": "display_data",
          "data": {
            "text/plain": [
              "<Figure size 864x504 with 1 Axes>"
            ],
            "image/png": "[encoded data removed]"
          },
          "metadata": {
            "needs_background": "light"
          }
        }
      ]
    },
    {
      "cell_type": "markdown",
      "source": [
        "Great! It seems like the mean salary increases as the years of coding increase!\n",
        "\n",
        "Note that the data above is just a sample of developers. How are we sure that there is a significant difference in mean salary between 3–5 years and 0–3 years of experience or 7-9 years and 0–3 years of experience? \n",
        "\n",
        "Now I will check that using a two-sample Bayesian t-test."
      ],
      "metadata": {
        "id": "lIqbiizshJ2e"
      }
    },
    {
      "cell_type": "markdown",
      "source": [
        "## Bayesian t-test on 2 Different Years of Experience"
      ],
      "metadata": {
        "id": "dJ30YNTIjKXW"
      }
    },
    {
      "cell_type": "markdown",
      "source": [
        "Before comparing multiple years of experience at once, let’s start with comparing the mean salaries of two different years of experience: 0–3 years of experience vs 3–5 years of experience."
      ],
      "metadata": {
        "id": "UVtiDe21qIDP"
      }
    },
    {
      "cell_type": "markdown",
      "source": [
        "> ### **We denote**:\n",
        "\n",
        "#### µ1 : Mean salary of developers with 0-3 years of experience  \n",
        "#### µ2 : Mean salary of developers with 3-5 years of experience  \n",
        "#### β: Difference in mean salary between 0-3 and 3-5 years of experience\n"
      ],
      "metadata": {
        "id": "KeVNtX-tsWbH"
      }
    },
    {
      "cell_type": "markdown",
      "source": [
        "From the equation above, we will check if there is no difference in mean salaries between the 2 groups, then 𝛽 = 0.  \n",
        "\n",
        "We will use Bambi to draw 4000 samples 𝛽 and find the distribution of 𝛽. We will assume that the salary distributions of 0–3 years and 3–5 years are normal."
      ],
      "metadata": {
        "id": "pu7Zcl3btVWf"
      }
    },
    {
      "cell_type": "code",
      "source": [
        "# !pip install arviz\n",
        "# !pip install bambi"
      ],
      "metadata": {
        "id": "m5WTfcI2tgW2"
      },
      "execution_count": 173,
      "outputs": []
    },
    {
      "cell_type": "code",
      "source": [
        "import arviz as az\n",
        "import bambi as bmb\n",
        "\n",
        "sample1 = years_sorted[\n",
        "    (years_sorted[\"YearsCoding_Range\"] == pd.Interval(0, 3, closed='right'))\n",
        "    | (years_sorted[\"YearsCoding_Range\"] == pd.Interval(3, 5, closed='right'))\n",
        "]\n",
        "\n",
        "# Convert to string\n",
        "sample1[\"YearsCoding_Range\"] = sample1[\"YearsCoding_Range\"].astype(str)\n",
        "\n",
        "# Build model\n",
        "model1 = bmb.Model(\"ConvertedCompYearly ~ YearsCoding_Range\", sample1)\n",
        "result1 = model1.fit(random_seed=0)"
      ],
      "metadata": {
        "colab": {
          "base_uri": "https://localhost:8080/",
          "height": 352
        },
        "id": "xq4jAL5-Vzrc",
        "outputId": "0f649467-9a03-43a7-a35e-12c4399450e9"
      },
      "execution_count": 174,
      "outputs": [
        {
          "output_type": "stream",
          "name": "stderr",
          "text": [
            "/usr/local/lib/python3.7/dist-packages/ipykernel_launcher.py:10: SettingWithCopyWarning: \n",
            "A value is trying to be set on a copy of a slice from a DataFrame.\n",
            "Try using .loc[row_indexer,col_indexer] = value instead\n",
            "\n",
            "See the caveats in the documentation: https://pandas.pydata.org/pandas-docs/stable/user_guide/indexing.html#returning-a-view-versus-a-copy\n",
            "  # Remove the CWD from sys.path while we load stuff.\n",
            "/usr/local/lib/python3.7/dist-packages/pandas/core/frame.py:3641: SettingWithCopyWarning: \n",
            "A value is trying to be set on a copy of a slice from a DataFrame.\n",
            "Try using .loc[row_indexer,col_indexer] = value instead\n",
            "\n",
            "See the caveats in the documentation: https://pandas.pydata.org/pandas-docs/stable/user_guide/indexing.html#returning-a-view-versus-a-copy\n",
            "  self[k1] = value[k2]\n",
            "Auto-assigning NUTS sampler...\n",
            "Initializing NUTS using jitter+adapt_diag...\n",
            "Sequential sampling (2 chains in 1 job)\n",
            "NUTS: [ConvertedCompYearly_sigma, YearsCoding_Range, Intercept]\n"
          ]
        },
        {
          "output_type": "display_data",
          "data": {
            "text/plain": [
              "<IPython.core.display.HTML object>"
            ],
            "text/html": [
              "\n",
              "<style>\n",
              "    /* Turns off some styling */\n",
              "    progress {\n",
              "        /* gets rid of default border in Firefox and Opera. */\n",
              "        border: none;\n",
              "        /* Needs to be in here for Safari polyfill so background images work as expected. */\n",
              "        background-size: auto;\n",
              "    }\n",
              "    .progress-bar-interrupted, .progress-bar-interrupted::-webkit-progress-bar {\n",
              "        background: #F44336;\n",
              "    }\n",
              "</style>\n"
            ]
          },
          "metadata": {}
        },
        {
          "output_type": "display_data",
          "data": {
            "text/plain": [
              "<IPython.core.display.HTML object>"
            ],
            "text/html": [
              "\n",
              "    <div>\n",
              "      <progress value='2000' class='' max='2000' style='width:300px; height:20px; vertical-align: middle;'></progress>\n",
              "      100.00% [2000/2000 00:04<00:00 Sampling chain 0, 0 divergences]\n",
              "    </div>\n",
              "    "
            ]
          },
          "metadata": {}
        },
        {
          "output_type": "display_data",
          "data": {
            "text/plain": [
              "<IPython.core.display.HTML object>"
            ],
            "text/html": [
              "\n",
              "<style>\n",
              "    /* Turns off some styling */\n",
              "    progress {\n",
              "        /* gets rid of default border in Firefox and Opera. */\n",
              "        border: none;\n",
              "        /* Needs to be in here for Safari polyfill so background images work as expected. */\n",
              "        background-size: auto;\n",
              "    }\n",
              "    .progress-bar-interrupted, .progress-bar-interrupted::-webkit-progress-bar {\n",
              "        background: #F44336;\n",
              "    }\n",
              "</style>\n"
            ]
          },
          "metadata": {}
        },
        {
          "output_type": "display_data",
          "data": {
            "text/plain": [
              "<IPython.core.display.HTML object>"
            ],
            "text/html": [
              "\n",
              "    <div>\n",
              "      <progress value='2000' class='' max='2000' style='width:300px; height:20px; vertical-align: middle;'></progress>\n",
              "      100.00% [2000/2000 00:04<00:00 Sampling chain 1, 0 divergences]\n",
              "    </div>\n",
              "    "
            ]
          },
          "metadata": {}
        },
        {
          "output_type": "stream",
          "name": "stderr",
          "text": [
            "Sampling 2 chains for 1_000 tune and 1_000 draw iterations (2_000 + 2_000 draws total) took 9 seconds.\n"
          ]
        }
      ]
    },
    {
      "cell_type": "code",
      "source": [
        "az.summary(result1)"
      ],
      "metadata": {
        "colab": {
          "base_uri": "https://localhost:8080/",
          "height": 143
        },
        "id": "0dcXPugAXiIJ",
        "outputId": "dd8b0438-818d-42e2-f827-7bf923cb299f"
      },
      "execution_count": 175,
      "outputs": [
        {
          "output_type": "execute_result",
          "data": {
            "text/plain": [
              "                                mean        sd     hdi_3%    hdi_97%  \\\n",
              "Intercept                  80382.462  2853.338  75381.425  85914.832   \n",
              "YearsCoding_Range[(3, 5]]  19066.178  3308.844  12826.281  25063.450   \n",
              "ConvertedCompYearly_sigma  44119.270  1088.602  42081.703  46149.048   \n",
              "\n",
              "                           mcse_mean  mcse_sd  ess_bulk  ess_tail  r_hat  \n",
              "Intercept                     59.773   42.272    2275.0    1332.0    1.0  \n",
              "YearsCoding_Range[(3, 5]]     70.583   50.729    2202.0    1421.0    1.0  \n",
              "ConvertedCompYearly_sigma     20.473   14.504    2815.0    1657.0    1.0  "
            ],
            "text/html": [
              "\n",
              "  <div id=\"df-456e983b-5c97-44aa-8f5c-3be2f0eb93d6\">\n",
              "    <div class=\"colab-df-container\">\n",
              "      <div>\n",
              "<style scoped>\n",
              "    .dataframe tbody tr th:only-of-type {\n",
              "        vertical-align: middle;\n",
              "    }\n",
              "\n",
              "    .dataframe tbody tr th {\n",
              "        vertical-align: top;\n",
              "    }\n",
              "\n",
              "    .dataframe thead th {\n",
              "        text-align: right;\n",
              "    }\n",
              "</style>\n",
              "<table border=\"1\" class=\"dataframe\">\n",
              "  <thead>\n",
              "    <tr style=\"text-align: right;\">\n",
              "      <th></th>\n",
              "      <th>mean</th>\n",
              "      <th>sd</th>\n",
              "      <th>hdi_3%</th>\n",
              "      <th>hdi_97%</th>\n",
              "      <th>mcse_mean</th>\n",
              "      <th>mcse_sd</th>\n",
              "      <th>ess_bulk</th>\n",
              "      <th>ess_tail</th>\n",
              "      <th>r_hat</th>\n",
              "    </tr>\n",
              "  </thead>\n",
              "  <tbody>\n",
              "    <tr>\n",
              "      <th>Intercept</th>\n",
              "      <td>80382.462</td>\n",
              "      <td>2853.338</td>\n",
              "      <td>75381.425</td>\n",
              "      <td>85914.832</td>\n",
              "      <td>59.773</td>\n",
              "      <td>42.272</td>\n",
              "      <td>2275.0</td>\n",
              "      <td>1332.0</td>\n",
              "      <td>1.0</td>\n",
              "    </tr>\n",
              "    <tr>\n",
              "      <th>YearsCoding_Range[(3, 5]]</th>\n",
              "      <td>19066.178</td>\n",
              "      <td>3308.844</td>\n",
              "      <td>12826.281</td>\n",
              "      <td>25063.450</td>\n",
              "      <td>70.583</td>\n",
              "      <td>50.729</td>\n",
              "      <td>2202.0</td>\n",
              "      <td>1421.0</td>\n",
              "      <td>1.0</td>\n",
              "    </tr>\n",
              "    <tr>\n",
              "      <th>ConvertedCompYearly_sigma</th>\n",
              "      <td>44119.270</td>\n",
              "      <td>1088.602</td>\n",
              "      <td>42081.703</td>\n",
              "      <td>46149.048</td>\n",
              "      <td>20.473</td>\n",
              "      <td>14.504</td>\n",
              "      <td>2815.0</td>\n",
              "      <td>1657.0</td>\n",
              "      <td>1.0</td>\n",
              "    </tr>\n",
              "  </tbody>\n",
              "</table>\n",
              "</div>\n",
              "      <button class=\"colab-df-convert\" onclick=\"convertToInteractive('df-456e983b-5c97-44aa-8f5c-3be2f0eb93d6')\"\n",
              "              title=\"Convert this dataframe to an interactive table.\"\n",
              "              style=\"display:none;\">\n",
              "        \n",
              "  <svg xmlns=\"http://www.w3.org/2000/svg\" height=\"24px\"viewBox=\"0 0 24 24\"\n",
              "       width=\"24px\">\n",
              "    <path d=\"M0 0h24v24H0V0z\" fill=\"none\"/>\n",
              "    <path d=\"M18.56 5.44l.94 2.06.94-2.06 2.06-.94-2.06-.94-.94-2.06-.94 2.06-2.06.94zm-11 1L8.5 8.5l.94-2.06 2.06-.94-2.06-.94L8.5 2.5l-.94 2.06-2.06.94zm10 10l.94 2.06.94-2.06 2.06-.94-2.06-.94-.94-2.06-.94 2.06-2.06.94z\"/><path d=\"M17.41 7.96l-1.37-1.37c-.4-.4-.92-.59-1.43-.59-.52 0-1.04.2-1.43.59L10.3 9.45l-7.72 7.72c-.78.78-.78 2.05 0 2.83L4 21.41c.39.39.9.59 1.41.59.51 0 1.02-.2 1.41-.59l7.78-7.78 2.81-2.81c.8-.78.8-2.07 0-2.86zM5.41 20L4 18.59l7.72-7.72 1.47 1.35L5.41 20z\"/>\n",
              "  </svg>\n",
              "      </button>\n",
              "      \n",
              "  <style>\n",
              "    .colab-df-container {\n",
              "      display:flex;\n",
              "      flex-wrap:wrap;\n",
              "      gap: 12px;\n",
              "    }\n",
              "\n",
              "    .colab-df-convert {\n",
              "      background-color: #E8F0FE;\n",
              "      border: none;\n",
              "      border-radius: 50%;\n",
              "      cursor: pointer;\n",
              "      display: none;\n",
              "      fill: #1967D2;\n",
              "      height: 32px;\n",
              "      padding: 0 0 0 0;\n",
              "      width: 32px;\n",
              "    }\n",
              "\n",
              "    .colab-df-convert:hover {\n",
              "      background-color: #E2EBFA;\n",
              "      box-shadow: 0px 1px 2px rgba(60, 64, 67, 0.3), 0px 1px 3px 1px rgba(60, 64, 67, 0.15);\n",
              "      fill: #174EA6;\n",
              "    }\n",
              "\n",
              "    [theme=dark] .colab-df-convert {\n",
              "      background-color: #3B4455;\n",
              "      fill: #D2E3FC;\n",
              "    }\n",
              "\n",
              "    [theme=dark] .colab-df-convert:hover {\n",
              "      background-color: #434B5C;\n",
              "      box-shadow: 0px 1px 3px 1px rgba(0, 0, 0, 0.15);\n",
              "      filter: drop-shadow(0px 1px 2px rgba(0, 0, 0, 0.3));\n",
              "      fill: #FFFFFF;\n",
              "    }\n",
              "  </style>\n",
              "\n",
              "      <script>\n",
              "        const buttonEl =\n",
              "          document.querySelector('#df-456e983b-5c97-44aa-8f5c-3be2f0eb93d6 button.colab-df-convert');\n",
              "        buttonEl.style.display =\n",
              "          google.colab.kernel.accessAllowed ? 'block' : 'none';\n",
              "\n",
              "        async function convertToInteractive(key) {\n",
              "          const element = document.querySelector('#df-456e983b-5c97-44aa-8f5c-3be2f0eb93d6');\n",
              "          const dataTable =\n",
              "            await google.colab.kernel.invokeFunction('convertToInteractive',\n",
              "                                                     [key], {});\n",
              "          if (!dataTable) return;\n",
              "\n",
              "          const docLinkHtml = 'Like what you see? Visit the ' +\n",
              "            '<a target=\"_blank\" href=https://colab.research.google.com/notebooks/data_table.ipynb>data table notebook</a>'\n",
              "            + ' to learn more about interactive tables.';\n",
              "          element.innerHTML = '';\n",
              "          dataTable['output_type'] = 'display_data';\n",
              "          await google.colab.output.renderOutput(dataTable, element);\n",
              "          const docLink = document.createElement('div');\n",
              "          docLink.innerHTML = docLinkHtml;\n",
              "          element.appendChild(docLink);\n",
              "        }\n",
              "      </script>\n",
              "    </div>\n",
              "  </div>\n",
              "  "
            ]
          },
          "metadata": {},
          "execution_count": 175
        }
      ]
    },
    {
      "cell_type": "code",
      "source": [
        "az.plot_posterior(result1.posterior[\"YearsCoding_Range\"], ref_val=0)"
      ],
      "metadata": {
        "colab": {
          "base_uri": "https://localhost:8080/",
          "height": 755
        },
        "id": "GqfyMkn8aEeI",
        "outputId": "87cef487-5d9c-46ab-937d-5ef06c4c2a4a"
      },
      "execution_count": 176,
      "outputs": [
        {
          "output_type": "execute_result",
          "data": {
            "text/plain": [
              "<matplotlib.axes._subplots.AxesSubplot at 0x7f2f443fb510>"
            ]
          },
          "metadata": {},
          "execution_count": 176
        },
        {
          "output_type": "display_data",
          "data": {
            "text/plain": [
              "<Figure size 1440x864 with 1 Axes>"
            ],
            "image/png": "[encoded data removed]"
          },
          "metadata": {
            "needs_background": "light"
          }
        }
      ]
    },
    {
      "cell_type": "markdown",
      "source": [
        "### From the distribution above, we can say that:  \n",
        " \n",
        "\n",
        "*   The mean difference in salary of the 2 groups is 19,066. \n",
        "*   94% of the difference in salary between the 2 groups lie between 12826 and 25063.\n",
        "\n",
        "\n",
        "Since all values of 𝛽 are much higher than 0, we can certainly say  that there is a significant difference between the mean salary of developers with 0–3 years of experience and those with 3–5 years of experience.\n",
        "\n",
        "\n"
      ],
      "metadata": {
        "id": "qekCgbu-awa7"
      }
    },
    {
      "cell_type": "markdown",
      "source": [
        "### Let’s double-check if all values of 𝛽 are greater than 0:"
      ],
      "metadata": {
        "id": "KMv5zrolcnxb"
      }
    },
    {
      "cell_type": "code",
      "source": [
        "(result1.posterior[\"YearsCoding_Range\"] > 1).values.mean()"
      ],
      "metadata": {
        "colab": {
          "base_uri": "https://localhost:8080/"
        },
        "id": "zKlJt1jxcogI",
        "outputId": "8453516f-80e9-4a07-a1e9-da9f09584bef"
      },
      "execution_count": 177,
      "outputs": [
        {
          "output_type": "execute_result",
          "data": {
            "text/plain": [
              "1.0"
            ]
          },
          "metadata": {},
          "execution_count": 177
        }
      ]
    },
    {
      "cell_type": "markdown",
      "source": [
        "Amazing! They all are."
      ],
      "metadata": {
        "id": "1KXoemSjc2l6"
      }
    },
    {
      "cell_type": "markdown",
      "source": [
        "## Bayesian t-test on Multiple Years of Experience"
      ],
      "metadata": {
        "id": "9tkLUWBhc9Mr"
      }
    },
    {
      "cell_type": "markdown",
      "source": [
        "#### Now, let’s compare other years of experience with 0–2 years of experience."
      ],
      "metadata": {
        "id": "xxGxqmXQgDCW"
      }
    },
    {
      "cell_type": "code",
      "source": [
        "years_sorted[\"YearsCoding_Range\"] = years_sorted[\"YearsCoding_Range\"].astype(str)\n",
        "\n",
        "all_model = bmb.Model(\"ConvertedCompYearly ~ YearsCoding_Range\", years_sorted)\n",
        "all_results = all_model.fit(random_seed=0)\n",
        "\n",
        "yearsCoding_summary = (\n",
        "    az.summary(all_results)\n",
        "    .drop([\"ConvertedCompYearly_sigma\", \"Intercept\"])\n",
        "    .sort_values(by=\"mean\")\n",
        ")"
      ],
      "metadata": {
        "colab": {
          "base_uri": "https://localhost:8080/",
          "height": 161
        },
        "id": "rTbEsJzGc_zi",
        "outputId": "ae29bb84-df28-4419-9ac3-ee1ad3a768fd"
      },
      "execution_count": 178,
      "outputs": [
        {
          "output_type": "stream",
          "name": "stderr",
          "text": [
            "Auto-assigning NUTS sampler...\n",
            "Initializing NUTS using jitter+adapt_diag...\n",
            "Sequential sampling (2 chains in 1 job)\n",
            "NUTS: [ConvertedCompYearly_sigma, YearsCoding_Range, Intercept]\n"
          ]
        },
        {
          "output_type": "display_data",
          "data": {
            "text/plain": [
              "<IPython.core.display.HTML object>"
            ],
            "text/html": [
              "\n",
              "<style>\n",
              "    /* Turns off some styling */\n",
              "    progress {\n",
              "        /* gets rid of default border in Firefox and Opera. */\n",
              "        border: none;\n",
              "        /* Needs to be in here for Safari polyfill so background images work as expected. */\n",
              "        background-size: auto;\n",
              "    }\n",
              "    .progress-bar-interrupted, .progress-bar-interrupted::-webkit-progress-bar {\n",
              "        background: #F44336;\n",
              "    }\n",
              "</style>\n"
            ]
          },
          "metadata": {}
        },
        {
          "output_type": "display_data",
          "data": {
            "text/plain": [
              "<IPython.core.display.HTML object>"
            ],
            "text/html": [
              "\n",
              "    <div>\n",
              "      <progress value='2000' class='' max='2000' style='width:300px; height:20px; vertical-align: middle;'></progress>\n",
              "      100.00% [2000/2000 00:25<00:00 Sampling chain 0, 0 divergences]\n",
              "    </div>\n",
              "    "
            ]
          },
          "metadata": {}
        },
        {
          "output_type": "display_data",
          "data": {
            "text/plain": [
              "<IPython.core.display.HTML object>"
            ],
            "text/html": [
              "\n",
              "<style>\n",
              "    /* Turns off some styling */\n",
              "    progress {\n",
              "        /* gets rid of default border in Firefox and Opera. */\n",
              "        border: none;\n",
              "        /* Needs to be in here for Safari polyfill so background images work as expected. */\n",
              "        background-size: auto;\n",
              "    }\n",
              "    .progress-bar-interrupted, .progress-bar-interrupted::-webkit-progress-bar {\n",
              "        background: #F44336;\n",
              "    }\n",
              "</style>\n"
            ]
          },
          "metadata": {}
        },
        {
          "output_type": "display_data",
          "data": {
            "text/plain": [
              "<IPython.core.display.HTML object>"
            ],
            "text/html": [
              "\n",
              "    <div>\n",
              "      <progress value='2000' class='' max='2000' style='width:300px; height:20px; vertical-align: middle;'></progress>\n",
              "      100.00% [2000/2000 00:19<00:00 Sampling chain 1, 0 divergences]\n",
              "    </div>\n",
              "    "
            ]
          },
          "metadata": {}
        },
        {
          "output_type": "stream",
          "name": "stderr",
          "text": [
            "Sampling 2 chains for 1_000 tune and 1_000 draw iterations (2_000 + 2_000 draws total) took 45 seconds.\n",
            "The number of effective samples is smaller than 25% for some parameters.\n"
          ]
        }
      ]
    },
    {
      "cell_type": "code",
      "source": [
        "yearsCoding_summary"
      ],
      "metadata": {
        "colab": {
          "base_uri": "https://localhost:8080/",
          "height": 300
        },
        "id": "6H38FvdIdRqP",
        "outputId": "1b4247a0-d10a-4c02-cd61-85fe9f301971"
      },
      "execution_count": 179,
      "outputs": [
        {
          "output_type": "execute_result",
          "data": {
            "text/plain": [
              "                                  mean        sd     hdi_3%    hdi_97%  \\\n",
              "YearsCoding_Range[(3, 5]]    19007.906  4466.040  11187.626  27899.867   \n",
              "YearsCoding_Range[(5, 7]]    29115.297  4328.986  20235.859  36202.987   \n",
              "YearsCoding_Range[(7, 9]]    34474.375  4420.927  26257.554  43068.956   \n",
              "YearsCoding_Range[(9, 11]]   44554.596  4254.849  36642.954  52481.289   \n",
              "YearsCoding_Range[(11, 15]]  57080.525  4128.362  49125.199  64606.400   \n",
              "YearsCoding_Range[(15, 20]]  69390.552  4192.346  60874.018  76795.978   \n",
              "YearsCoding_Range[(20, 30]]  77059.748  4138.486  69346.913  84827.939   \n",
              "YearsCoding_Range[(30, 50]]  78008.517  4225.587  70615.262  86496.697   \n",
              "\n",
              "                             mcse_mean  mcse_sd  ess_bulk  ess_tail  r_hat  \n",
              "YearsCoding_Range[(3, 5]]      207.784  147.018     461.0     703.0   1.01  \n",
              "YearsCoding_Range[(5, 7]]      193.669  137.025     501.0     563.0   1.01  \n",
              "YearsCoding_Range[(7, 9]]      203.829  144.218     479.0     606.0   1.01  \n",
              "YearsCoding_Range[(9, 11]]     200.377  141.780     453.0     645.0   1.01  \n",
              "YearsCoding_Range[(11, 15]]    190.126  134.523     482.0     685.0   1.01  \n",
              "YearsCoding_Range[(15, 20]]    188.947  133.685     494.0     658.0   1.01  \n",
              "YearsCoding_Range[(20, 30]]    185.740  131.415     498.0     596.0   1.01  \n",
              "YearsCoding_Range[(30, 50]]    187.060  132.347     513.0     614.0   1.01  "
            ],
            "text/html": [
              "\n",
              "  <div id=\"df-d36bef78-2a38-4d52-afca-a61c0efe1af0\">\n",
              "    <div class=\"colab-df-container\">\n",
              "      <div>\n",
              "<style scoped>\n",
              "    .dataframe tbody tr th:only-of-type {\n",
              "        vertical-align: middle;\n",
              "    }\n",
              "\n",
              "    .dataframe tbody tr th {\n",
              "        vertical-align: top;\n",
              "    }\n",
              "\n",
              "    .dataframe thead th {\n",
              "        text-align: right;\n",
              "    }\n",
              "</style>\n",
              "<table border=\"1\" class=\"dataframe\">\n",
              "  <thead>\n",
              "    <tr style=\"text-align: right;\">\n",
              "      <th></th>\n",
              "      <th>mean</th>\n",
              "      <th>sd</th>\n",
              "      <th>hdi_3%</th>\n",
              "      <th>hdi_97%</th>\n",
              "      <th>mcse_mean</th>\n",
              "      <th>mcse_sd</th>\n",
              "      <th>ess_bulk</th>\n",
              "      <th>ess_tail</th>\n",
              "      <th>r_hat</th>\n",
              "    </tr>\n",
              "  </thead>\n",
              "  <tbody>\n",
              "    <tr>\n",
              "      <th>YearsCoding_Range[(3, 5]]</th>\n",
              "      <td>19007.906</td>\n",
              "      <td>4466.040</td>\n",
              "      <td>11187.626</td>\n",
              "      <td>27899.867</td>\n",
              "      <td>207.784</td>\n",
              "      <td>147.018</td>\n",
              "      <td>461.0</td>\n",
              "      <td>703.0</td>\n",
              "      <td>1.01</td>\n",
              "    </tr>\n",
              "    <tr>\n",
              "      <th>YearsCoding_Range[(5, 7]]</th>\n",
              "      <td>29115.297</td>\n",
              "      <td>4328.986</td>\n",
              "      <td>20235.859</td>\n",
              "      <td>36202.987</td>\n",
              "      <td>193.669</td>\n",
              "      <td>137.025</td>\n",
              "      <td>501.0</td>\n",
              "      <td>563.0</td>\n",
              "      <td>1.01</td>\n",
              "    </tr>\n",
              "    <tr>\n",
              "      <th>YearsCoding_Range[(7, 9]]</th>\n",
              "      <td>34474.375</td>\n",
              "      <td>4420.927</td>\n",
              "      <td>26257.554</td>\n",
              "      <td>43068.956</td>\n",
              "      <td>203.829</td>\n",
              "      <td>144.218</td>\n",
              "      <td>479.0</td>\n",
              "      <td>606.0</td>\n",
              "      <td>1.01</td>\n",
              "    </tr>\n",
              "    <tr>\n",
              "      <th>YearsCoding_Range[(9, 11]]</th>\n",
              "      <td>44554.596</td>\n",
              "      <td>4254.849</td>\n",
              "      <td>36642.954</td>\n",
              "      <td>52481.289</td>\n",
              "      <td>200.377</td>\n",
              "      <td>141.780</td>\n",
              "      <td>453.0</td>\n",
              "      <td>645.0</td>\n",
              "      <td>1.01</td>\n",
              "    </tr>\n",
              "    <tr>\n",
              "      <th>YearsCoding_Range[(11, 15]]</th>\n",
              "      <td>57080.525</td>\n",
              "      <td>4128.362</td>\n",
              "      <td>49125.199</td>\n",
              "      <td>64606.400</td>\n",
              "      <td>190.126</td>\n",
              "      <td>134.523</td>\n",
              "      <td>482.0</td>\n",
              "      <td>685.0</td>\n",
              "      <td>1.01</td>\n",
              "    </tr>\n",
              "    <tr>\n",
              "      <th>YearsCoding_Range[(15, 20]]</th>\n",
              "      <td>69390.552</td>\n",
              "      <td>4192.346</td>\n",
              "      <td>60874.018</td>\n",
              "      <td>76795.978</td>\n",
              "      <td>188.947</td>\n",
              "      <td>133.685</td>\n",
              "      <td>494.0</td>\n",
              "      <td>658.0</td>\n",
              "      <td>1.01</td>\n",
              "    </tr>\n",
              "    <tr>\n",
              "      <th>YearsCoding_Range[(20, 30]]</th>\n",
              "      <td>77059.748</td>\n",
              "      <td>4138.486</td>\n",
              "      <td>69346.913</td>\n",
              "      <td>84827.939</td>\n",
              "      <td>185.740</td>\n",
              "      <td>131.415</td>\n",
              "      <td>498.0</td>\n",
              "      <td>596.0</td>\n",
              "      <td>1.01</td>\n",
              "    </tr>\n",
              "    <tr>\n",
              "      <th>YearsCoding_Range[(30, 50]]</th>\n",
              "      <td>78008.517</td>\n",
              "      <td>4225.587</td>\n",
              "      <td>70615.262</td>\n",
              "      <td>86496.697</td>\n",
              "      <td>187.060</td>\n",
              "      <td>132.347</td>\n",
              "      <td>513.0</td>\n",
              "      <td>614.0</td>\n",
              "      <td>1.01</td>\n",
              "    </tr>\n",
              "  </tbody>\n",
              "</table>\n",
              "</div>\n",
              "      <button class=\"colab-df-convert\" onclick=\"convertToInteractive('df-d36bef78-2a38-4d52-afca-a61c0efe1af0')\"\n",
              "              title=\"Convert this dataframe to an interactive table.\"\n",
              "              style=\"display:none;\">\n",
              "        \n",
              "  <svg xmlns=\"http://www.w3.org/2000/svg\" height=\"24px\"viewBox=\"0 0 24 24\"\n",
              "       width=\"24px\">\n",
              "    <path d=\"M0 0h24v24H0V0z\" fill=\"none\"/>\n",
              "    <path d=\"M18.56 5.44l.94 2.06.94-2.06 2.06-.94-2.06-.94-.94-2.06-.94 2.06-2.06.94zm-11 1L8.5 8.5l.94-2.06 2.06-.94-2.06-.94L8.5 2.5l-.94 2.06-2.06.94zm10 10l.94 2.06.94-2.06 2.06-.94-2.06-.94-.94-2.06-.94 2.06-2.06.94z\"/><path d=\"M17.41 7.96l-1.37-1.37c-.4-.4-.92-.59-1.43-.59-.52 0-1.04.2-1.43.59L10.3 9.45l-7.72 7.72c-.78.78-.78 2.05 0 2.83L4 21.41c.39.39.9.59 1.41.59.51 0 1.02-.2 1.41-.59l7.78-7.78 2.81-2.81c.8-.78.8-2.07 0-2.86zM5.41 20L4 18.59l7.72-7.72 1.47 1.35L5.41 20z\"/>\n",
              "  </svg>\n",
              "      </button>\n",
              "      \n",
              "  <style>\n",
              "    .colab-df-container {\n",
              "      display:flex;\n",
              "      flex-wrap:wrap;\n",
              "      gap: 12px;\n",
              "    }\n",
              "\n",
              "    .colab-df-convert {\n",
              "      background-color: #E8F0FE;\n",
              "      border: none;\n",
              "      border-radius: 50%;\n",
              "      cursor: pointer;\n",
              "      display: none;\n",
              "      fill: #1967D2;\n",
              "      height: 32px;\n",
              "      padding: 0 0 0 0;\n",
              "      width: 32px;\n",
              "    }\n",
              "\n",
              "    .colab-df-convert:hover {\n",
              "      background-color: #E2EBFA;\n",
              "      box-shadow: 0px 1px 2px rgba(60, 64, 67, 0.3), 0px 1px 3px 1px rgba(60, 64, 67, 0.15);\n",
              "      fill: #174EA6;\n",
              "    }\n",
              "\n",
              "    [theme=dark] .colab-df-convert {\n",
              "      background-color: #3B4455;\n",
              "      fill: #D2E3FC;\n",
              "    }\n",
              "\n",
              "    [theme=dark] .colab-df-convert:hover {\n",
              "      background-color: #434B5C;\n",
              "      box-shadow: 0px 1px 3px 1px rgba(0, 0, 0, 0.15);\n",
              "      filter: drop-shadow(0px 1px 2px rgba(0, 0, 0, 0.3));\n",
              "      fill: #FFFFFF;\n",
              "    }\n",
              "  </style>\n",
              "\n",
              "      <script>\n",
              "        const buttonEl =\n",
              "          document.querySelector('#df-d36bef78-2a38-4d52-afca-a61c0efe1af0 button.colab-df-convert');\n",
              "        buttonEl.style.display =\n",
              "          google.colab.kernel.accessAllowed ? 'block' : 'none';\n",
              "\n",
              "        async function convertToInteractive(key) {\n",
              "          const element = document.querySelector('#df-d36bef78-2a38-4d52-afca-a61c0efe1af0');\n",
              "          const dataTable =\n",
              "            await google.colab.kernel.invokeFunction('convertToInteractive',\n",
              "                                                     [key], {});\n",
              "          if (!dataTable) return;\n",
              "\n",
              "          const docLinkHtml = 'Like what you see? Visit the ' +\n",
              "            '<a target=\"_blank\" href=https://colab.research.google.com/notebooks/data_table.ipynb>data table notebook</a>'\n",
              "            + ' to learn more about interactive tables.';\n",
              "          element.innerHTML = '';\n",
              "          dataTable['output_type'] = 'display_data';\n",
              "          await google.colab.output.renderOutput(dataTable, element);\n",
              "          const docLink = document.createElement('div');\n",
              "          docLink.innerHTML = docLinkHtml;\n",
              "          element.appendChild(docLink);\n",
              "        }\n",
              "      </script>\n",
              "    </div>\n",
              "  </div>\n",
              "  "
            ]
          },
          "metadata": {},
          "execution_count": 179
        }
      ]
    },
    {
      "cell_type": "markdown",
      "source": [
        "### From the table above, we can conclude that:\n",
        "   \n",
        "\n",
        "*   The mean salary difference increases as years of coding increase.\n",
        "*   As the years of coding experience get larger, the increase in mean salary for every extra year of coding gets smaller.\n",
        "\n"
      ],
      "metadata": {
        "id": "PXVKihqIf3h2"
      }
    },
    {
      "cell_type": "markdown",
      "source": [
        "## **Other Factors that might Affect Salary**"
      ],
      "metadata": {
        "id": "vgUKKrELhrwU"
      }
    },
    {
      "cell_type": "markdown",
      "source": [
        "We have known that years of coding experience do affect salary.  \n",
        "But how about other factors such as formal education, position type, and the size of the company?"
      ],
      "metadata": {
        "id": "pRmnp5JzkL9y"
      }
    },
    {
      "cell_type": "markdown",
      "source": [
        "### **Salary by Formal Education**\n",
        "Does the formal degree affect how much you earn? \n",
        "Let's find out using a box plot whose boxes are sorted based on the increase in the level of education."
      ],
      "metadata": {
        "id": "eOD_uVY6lE8r"
      }
    },
    {
      "cell_type": "code",
      "source": [
        "ordered_degrees = [\n",
        "    \"Primary/elementary school\",\n",
        "    \"Secondary school\",\n",
        "    \"Some college/university study without degree\",\n",
        "    \"Bachelor’s degree\",\n",
        "    \"Master’s degree\",\n",
        "    \"Professional degree\",\n",
        "    \"Doctoral degree\",\n",
        "    \"Something else\"\n",
        "]\n",
        "\n",
        "salary_edu = sample[sample[\"ConvertedCompYearly\"] < 500_000].copy()\n",
        "\n",
        "salary_edu[\"EdLevel\"] = salary_edu[\"EdLevel\"].astype(\"category\")\n",
        "salary_edu[\"EdLevel\"].cat.set_categories(\n",
        "    ordered_degrees, ordered=True, inplace=True\n",
        ")\n",
        "\n",
        "sort_by_education = salary_edu.dropna(subset=[\"ConvertedCompYearly\", \"EdLevel\"]).sort_values(by=\"EdLevel\")"
      ],
      "metadata": {
        "colab": {
          "base_uri": "https://localhost:8080/"
        },
        "id": "RxS6X2uRvKUX",
        "outputId": "da62243f-c194-4c14-ee96-46690996d029"
      },
      "execution_count": 180,
      "outputs": [
        {
          "output_type": "stream",
          "name": "stderr",
          "text": [
            "/usr/local/lib/python3.7/dist-packages/pandas/core/arrays/categorical.py:2631: FutureWarning: The `inplace` parameter in pandas.Categorical.set_categories is deprecated and will be removed in a future version. Removing unused categories will always return a new Categorical object.\n",
            "  res = method(*args, **kwargs)\n"
          ]
        }
      ]
    },
    {
      "cell_type": "code",
      "source": [
        "sns.boxplot(data=sort_by_education = salary_edu.dropna(subset=[\"ConvertedCompYearly\", \"EdLevel\"]).sort_values(by=\"EdLevel\")\n",
        ", x=\"EdLevel\", y=\"ConvertedCompYearly\")\n",
        "plt.xticks(rotation=30, ha=\"right\", fontsize=\"xx-large\")\n",
        "plt.xlabel(\"Education Level\", fontsize=\"xx-large\")\n",
        "plt.ylabel(\"Yearly Salary\", fontsize=\"xx-large\")\n",
        "plt.rcParams['figure.figsize'] = [20,10]\n",
        "plt.show()\n",
        "\n",
        "# EdLevel OrgSize DevType"
      ],
      "metadata": {
        "colab": {
          "base_uri": "https://localhost:8080/",
          "height": 927
        },
        "id": "K28Yj-VblSQm",
        "outputId": "55152a7d-04ef-4d8e-a7e7-8b853ac0f5e1"
      },
      "execution_count": 182,
      "outputs": [
        {
          "output_type": "display_data",
          "data": {
            "text/plain": [
              "<Figure size 1440x864 with 1 Axes>"
            ],
            "image/png": "[encoded data removed]"
          },
          "metadata": {
            "needs_background": "light"
          }
        }
      ]
    },
    {
      "cell_type": "markdown",
      "source": [
        "In the plot above, those with no formal degree seem to earn as much as those with a Bachelor’s degree on average and it is the same for Master's degree and Doctoral degree. Thus, we can say that there is little correlation between the level of the formal degree and salary.\n",
        "\n",
        "However if you had completed a Bachelor's degree, you should consider taking a Master's degree as well!"
      ],
      "metadata": {
        "id": "0cmh0-HHw_Yy"
      }
    },
    {
      "cell_type": "markdown",
      "source": [
        "### **Salary by Company Size**\n"
      ],
      "metadata": {
        "id": "Qu9In-Uc3wHS"
      }
    },
    {
      "cell_type": "code",
      "source": [
        "salary_size = sample[sample[\"ConvertedCompYearly\"] < 500_000].copy()\n",
        "size_sorted = salary_size.sort_values(by=\"OrgSize\")"
      ],
      "metadata": {
        "id": "x7y4MLXW301f"
      },
      "execution_count": 183,
      "outputs": []
    },
    {
      "cell_type": "code",
      "source": [
        "size_sorted"
      ],
      "metadata": {
        "colab": {
          "base_uri": "https://localhost:8080/",
          "height": 1000
        },
        "id": "efmEbyBV7bYP",
        "outputId": "bb612334-3d80-4445-f34b-b54fb53b6412"
      },
      "execution_count": 184,
      "outputs": [
        {
          "output_type": "execute_result",
          "data": {
            "text/plain": [
              "       ResponseId                                         MainBranch  \\\n",
              "5699         5700                     I am a developer by profession   \n",
              "6113         6114                     I am a developer by profession   \n",
              "8671         8672  I am not primarily a developer, but I write co...   \n",
              "17567       17568                     I am a developer by profession   \n",
              "19517       19518                     I am a developer by profession   \n",
              "...           ...                                                ...   \n",
              "83204       83205                     I am a developer by profession   \n",
              "83242       83243                     I am a developer by profession   \n",
              "83252       83253                     I am a developer by profession   \n",
              "83312       83313                     I am a developer by profession   \n",
              "83401       83402                     I am a developer by profession   \n",
              "\n",
              "               Employment                   Country              US_State  \\\n",
              "5699   Employed full-time  United States of America                 Texas   \n",
              "6113   Employed full-time  United States of America               Florida   \n",
              "8671   Employed full-time  United States of America              New York   \n",
              "17567  Employed full-time  United States of America               Florida   \n",
              "19517  Employed full-time  United States of America              Illinois   \n",
              "...                   ...                       ...                   ...   \n",
              "83204  Employed full-time  United States of America  District of Columbia   \n",
              "83242  Employed full-time  United States of America                  Iowa   \n",
              "83252  Employed full-time  United States of America            Washington   \n",
              "83312  Employed full-time  United States of America                 Texas   \n",
              "83401  Employed full-time  United States of America             Minnesota   \n",
              "\n",
              "      UK_Country                                       EdLevel  \\\n",
              "5699         NaN                             Bachelor’s degree   \n",
              "6113         NaN                               Doctoral degree   \n",
              "8671         NaN                               Master’s degree   \n",
              "17567        NaN                             Bachelor’s degree   \n",
              "19517        NaN                             Bachelor’s degree   \n",
              "...          ...                                           ...   \n",
              "83204        NaN                               Master’s degree   \n",
              "83242        NaN                             Bachelor’s degree   \n",
              "83252        NaN                             Bachelor’s degree   \n",
              "83312        NaN  Some college/university study without degree   \n",
              "83401        NaN                             Bachelor’s degree   \n",
              "\n",
              "                Age1stCode                                          LearnCode  \\\n",
              "5699         11 - 17 years  Coding Bootcamp;Other online resources (ex: vi...   \n",
              "6113         25 - 34 years                                       Online Forum   \n",
              "8671         11 - 17 years                      School;Books / Physical media   \n",
              "17567  Older than 64 years  Other online resources (ex: videos, blogs, etc...   \n",
              "19517        11 - 17 years  Other online resources (ex: videos, blogs, etc...   \n",
              "...                    ...                                                ...   \n",
              "83204        11 - 17 years  Other online resources (ex: videos, blogs, etc...   \n",
              "83242        11 - 17 years                      School;Books / Physical media   \n",
              "83252        11 - 17 years                                   School;Colleague   \n",
              "83312        11 - 17 years                             Books / Physical media   \n",
              "83401        11 - 17 years    Other online resources (ex: videos, blogs, etc)   \n",
              "\n",
              "                YearsCode  ...                Age Gender Trans  \\\n",
              "5699                   11  ...    25-34 years old    Man    No   \n",
              "6113                    3  ...    35-44 years old    Man    No   \n",
              "8671   More than 50 years  ...  65 years or older    Man    No   \n",
              "17567  More than 50 years  ...  65 years or older    Man    No   \n",
              "19517                  40  ...    45-54 years old    Man    No   \n",
              "...                   ...  ...                ...    ...   ...   \n",
              "83204                  11  ...    25-34 years old    Man    No   \n",
              "83242                   7  ...    25-34 years old    Man    No   \n",
              "83252                   4  ...    25-34 years old    NaN   NaN   \n",
              "83312                  14  ...                NaN    NaN   NaN   \n",
              "83401                  11  ...    18-24 years old    Man    No   \n",
              "\n",
              "                              Sexuality  \\\n",
              "5699                  Prefer not to say   \n",
              "6113            Straight / Heterosexual   \n",
              "8671            Straight / Heterosexual   \n",
              "17567           Straight / Heterosexual   \n",
              "19517           Straight / Heterosexual   \n",
              "...                                 ...   \n",
              "83204  Straight / Heterosexual;Bisexual   \n",
              "83242           Straight / Heterosexual   \n",
              "83252                               NaN   \n",
              "83312                               NaN   \n",
              "83401           Straight / Heterosexual   \n",
              "\n",
              "                                               Ethnicity  \\\n",
              "5699                                          East Asian   \n",
              "6113                                         South Asian   \n",
              "8671                        White or of European descent   \n",
              "17567                       White or of European descent   \n",
              "19517                       White or of European descent   \n",
              "...                                                  ...   \n",
              "83204                       White or of European descent   \n",
              "83242                       White or of European descent   \n",
              "83252                                                NaN   \n",
              "83312                                                NaN   \n",
              "83401  White or of European descent;Hispanic or Latin...   \n",
              "\n",
              "                     Accessibility  \\\n",
              "5699             None of the above   \n",
              "6113             None of the above   \n",
              "8671             None of the above   \n",
              "17567            None of the above   \n",
              "19517  I am deaf / hard of hearing   \n",
              "...                            ...   \n",
              "83204                          NaN   \n",
              "83242            None of the above   \n",
              "83252                          NaN   \n",
              "83312                          NaN   \n",
              "83401            None of the above   \n",
              "\n",
              "                                            MentalHealth  \\\n",
              "5699                                   None of the above   \n",
              "6113                                   None of the above   \n",
              "8671                                   None of the above   \n",
              "17567                                  None of the above   \n",
              "19517                                  None of the above   \n",
              "...                                                  ...   \n",
              "83204  I have a concentration and/or memory disorder ...   \n",
              "83242                                  Prefer not to say   \n",
              "83252                                                NaN   \n",
              "83312                                                NaN   \n",
              "83401                                  None of the above   \n",
              "\n",
              "                SurveyLength                  SurveyEase ConvertedCompYearly  \n",
              "5699                Too long  Neither easy nor difficult            140000.0  \n",
              "6113   Appropriate in length                        Easy             47500.0  \n",
              "8671   Appropriate in length                        Easy            100000.0  \n",
              "17567  Appropriate in length                        Easy             50000.0  \n",
              "19517  Appropriate in length  Neither easy nor difficult             95000.0  \n",
              "...                      ...                         ...                 ...  \n",
              "83204  Appropriate in length  Neither easy nor difficult            114000.0  \n",
              "83242  Appropriate in length                        Easy             92000.0  \n",
              "83252  Appropriate in length                        Easy            108000.0  \n",
              "83312                    NaN                         NaN            200000.0  \n",
              "83401  Appropriate in length                        Easy             70000.0  \n",
              "\n",
              "[8783 rows x 48 columns]"
            ],
            "text/html": [
              "\n",
              "  <div id=\"df-ca266217-68af-4a75-89ef-c0fefa282e31\">\n",
              "    <div class=\"colab-df-container\">\n",
              "      <div>\n",
              "<style scoped>\n",
              "    .dataframe tbody tr th:only-of-type {\n",
              "        vertical-align: middle;\n",
              "    }\n",
              "\n",
              "    .dataframe tbody tr th {\n",
              "        vertical-align: top;\n",
              "    }\n",
              "\n",
              "    .dataframe thead th {\n",
              "        text-align: right;\n",
              "    }\n",
              "</style>\n",
              "<table border=\"1\" class=\"dataframe\">\n",
              "  <thead>\n",
              "    <tr style=\"text-align: right;\">\n",
              "      <th></th>\n",
              "      <th>ResponseId</th>\n",
              "      <th>MainBranch</th>\n",
              "      <th>Employment</th>\n",
              "      <th>Country</th>\n",
              "      <th>US_State</th>\n",
              "      <th>UK_Country</th>\n",
              "      <th>EdLevel</th>\n",
              "      <th>Age1stCode</th>\n",
              "      <th>LearnCode</th>\n",
              "      <th>YearsCode</th>\n",
              "      <th>...</th>\n",
              "      <th>Age</th>\n",
              "      <th>Gender</th>\n",
              "      <th>Trans</th>\n",
              "      <th>Sexuality</th>\n",
              "      <th>Ethnicity</th>\n",
              "      <th>Accessibility</th>\n",
              "      <th>MentalHealth</th>\n",
              "      <th>SurveyLength</th>\n",
              "      <th>SurveyEase</th>\n",
              "      <th>ConvertedCompYearly</th>\n",
              "    </tr>\n",
              "  </thead>\n",
              "  <tbody>\n",
              "    <tr>\n",
              "      <th>5699</th>\n",
              "      <td>5700</td>\n",
              "      <td>I am a developer by profession</td>\n",
              "      <td>Employed full-time</td>\n",
              "      <td>United States of America</td>\n",
              "      <td>Texas</td>\n",
              "      <td>NaN</td>\n",
              "      <td>Bachelor’s degree</td>\n",
              "      <td>11 - 17 years</td>\n",
              "      <td>Coding Bootcamp;Other online resources (ex: vi...</td>\n",
              "      <td>11</td>\n",
              "      <td>...</td>\n",
              "      <td>25-34 years old</td>\n",
              "      <td>Man</td>\n",
              "      <td>No</td>\n",
              "      <td>Prefer not to say</td>\n",
              "      <td>East Asian</td>\n",
              "      <td>None of the above</td>\n",
              "      <td>None of the above</td>\n",
              "      <td>Too long</td>\n",
              "      <td>Neither easy nor difficult</td>\n",
              "      <td>140000.0</td>\n",
              "    </tr>\n",
              "    <tr>\n",
              "      <th>6113</th>\n",
              "      <td>6114</td>\n",
              "      <td>I am a developer by profession</td>\n",
              "      <td>Employed full-time</td>\n",
              "      <td>United States of America</td>\n",
              "      <td>Florida</td>\n",
              "      <td>NaN</td>\n",
              "      <td>Doctoral degree</td>\n",
              "      <td>25 - 34 years</td>\n",
              "      <td>Online Forum</td>\n",
              "      <td>3</td>\n",
              "      <td>...</td>\n",
              "      <td>35-44 years old</td>\n",
              "      <td>Man</td>\n",
              "      <td>No</td>\n",
              "      <td>Straight / Heterosexual</td>\n",
              "      <td>South Asian</td>\n",
              "      <td>None of the above</td>\n",
              "      <td>None of the above</td>\n",
              "      <td>Appropriate in length</td>\n",
              "      <td>Easy</td>\n",
              "      <td>47500.0</td>\n",
              "    </tr>\n",
              "    <tr>\n",
              "      <th>8671</th>\n",
              "      <td>8672</td>\n",
              "      <td>I am not primarily a developer, but I write co...</td>\n",
              "      <td>Employed full-time</td>\n",
              "      <td>United States of America</td>\n",
              "      <td>New York</td>\n",
              "      <td>NaN</td>\n",
              "      <td>Master’s degree</td>\n",
              "      <td>11 - 17 years</td>\n",
              "      <td>School;Books / Physical media</td>\n",
              "      <td>More than 50 years</td>\n",
              "      <td>...</td>\n",
              "      <td>65 years or older</td>\n",
              "      <td>Man</td>\n",
              "      <td>No</td>\n",
              "      <td>Straight / Heterosexual</td>\n",
              "      <td>White or of European descent</td>\n",
              "      <td>None of the above</td>\n",
              "      <td>None of the above</td>\n",
              "      <td>Appropriate in length</td>\n",
              "      <td>Easy</td>\n",
              "      <td>100000.0</td>\n",
              "    </tr>\n",
              "    <tr>\n",
              "      <th>17567</th>\n",
              "      <td>17568</td>\n",
              "      <td>I am a developer by profession</td>\n",
              "      <td>Employed full-time</td>\n",
              "      <td>United States of America</td>\n",
              "      <td>Florida</td>\n",
              "      <td>NaN</td>\n",
              "      <td>Bachelor’s degree</td>\n",
              "      <td>Older than 64 years</td>\n",
              "      <td>Other online resources (ex: videos, blogs, etc...</td>\n",
              "      <td>More than 50 years</td>\n",
              "      <td>...</td>\n",
              "      <td>65 years or older</td>\n",
              "      <td>Man</td>\n",
              "      <td>No</td>\n",
              "      <td>Straight / Heterosexual</td>\n",
              "      <td>White or of European descent</td>\n",
              "      <td>None of the above</td>\n",
              "      <td>None of the above</td>\n",
              "      <td>Appropriate in length</td>\n",
              "      <td>Easy</td>\n",
              "      <td>50000.0</td>\n",
              "    </tr>\n",
              "    <tr>\n",
              "      <th>19517</th>\n",
              "      <td>19518</td>\n",
              "      <td>I am a developer by profession</td>\n",
              "      <td>Employed full-time</td>\n",
              "      <td>United States of America</td>\n",
              "      <td>Illinois</td>\n",
              "      <td>NaN</td>\n",
              "      <td>Bachelor’s degree</td>\n",
              "      <td>11 - 17 years</td>\n",
              "      <td>Other online resources (ex: videos, blogs, etc...</td>\n",
              "      <td>40</td>\n",
              "      <td>...</td>\n",
              "      <td>45-54 years old</td>\n",
              "      <td>Man</td>\n",
              "      <td>No</td>\n",
              "      <td>Straight / Heterosexual</td>\n",
              "      <td>White or of European descent</td>\n",
              "      <td>I am deaf / hard of hearing</td>\n",
              "      <td>None of the above</td>\n",
              "      <td>Appropriate in length</td>\n",
              "      <td>Neither easy nor difficult</td>\n",
              "      <td>95000.0</td>\n",
              "    </tr>\n",
              "    <tr>\n",
              "      <th>...</th>\n",
              "      <td>...</td>\n",
              "      <td>...</td>\n",
              "      <td>...</td>\n",
              "      <td>...</td>\n",
              "      <td>...</td>\n",
              "      <td>...</td>\n",
              "      <td>...</td>\n",
              "      <td>...</td>\n",
              "      <td>...</td>\n",
              "      <td>...</td>\n",
              "      <td>...</td>\n",
              "      <td>...</td>\n",
              "      <td>...</td>\n",
              "      <td>...</td>\n",
              "      <td>...</td>\n",
              "      <td>...</td>\n",
              "      <td>...</td>\n",
              "      <td>...</td>\n",
              "      <td>...</td>\n",
              "      <td>...</td>\n",
              "      <td>...</td>\n",
              "    </tr>\n",
              "    <tr>\n",
              "      <th>83204</th>\n",
              "      <td>83205</td>\n",
              "      <td>I am a developer by profession</td>\n",
              "      <td>Employed full-time</td>\n",
              "      <td>United States of America</td>\n",
              "      <td>District of Columbia</td>\n",
              "      <td>NaN</td>\n",
              "      <td>Master’s degree</td>\n",
              "      <td>11 - 17 years</td>\n",
              "      <td>Other online resources (ex: videos, blogs, etc...</td>\n",
              "      <td>11</td>\n",
              "      <td>...</td>\n",
              "      <td>25-34 years old</td>\n",
              "      <td>Man</td>\n",
              "      <td>No</td>\n",
              "      <td>Straight / Heterosexual;Bisexual</td>\n",
              "      <td>White or of European descent</td>\n",
              "      <td>NaN</td>\n",
              "      <td>I have a concentration and/or memory disorder ...</td>\n",
              "      <td>Appropriate in length</td>\n",
              "      <td>Neither easy nor difficult</td>\n",
              "      <td>114000.0</td>\n",
              "    </tr>\n",
              "    <tr>\n",
              "      <th>83242</th>\n",
              "      <td>83243</td>\n",
              "      <td>I am a developer by profession</td>\n",
              "      <td>Employed full-time</td>\n",
              "      <td>United States of America</td>\n",
              "      <td>Iowa</td>\n",
              "      <td>NaN</td>\n",
              "      <td>Bachelor’s degree</td>\n",
              "      <td>11 - 17 years</td>\n",
              "      <td>School;Books / Physical media</td>\n",
              "      <td>7</td>\n",
              "      <td>...</td>\n",
              "      <td>25-34 years old</td>\n",
              "      <td>Man</td>\n",
              "      <td>No</td>\n",
              "      <td>Straight / Heterosexual</td>\n",
              "      <td>White or of European descent</td>\n",
              "      <td>None of the above</td>\n",
              "      <td>Prefer not to say</td>\n",
              "      <td>Appropriate in length</td>\n",
              "      <td>Easy</td>\n",
              "      <td>92000.0</td>\n",
              "    </tr>\n",
              "    <tr>\n",
              "      <th>83252</th>\n",
              "      <td>83253</td>\n",
              "      <td>I am a developer by profession</td>\n",
              "      <td>Employed full-time</td>\n",
              "      <td>United States of America</td>\n",
              "      <td>Washington</td>\n",
              "      <td>NaN</td>\n",
              "      <td>Bachelor’s degree</td>\n",
              "      <td>11 - 17 years</td>\n",
              "      <td>School;Colleague</td>\n",
              "      <td>4</td>\n",
              "      <td>...</td>\n",
              "      <td>25-34 years old</td>\n",
              "      <td>NaN</td>\n",
              "      <td>NaN</td>\n",
              "      <td>NaN</td>\n",
              "      <td>NaN</td>\n",
              "      <td>NaN</td>\n",
              "      <td>NaN</td>\n",
              "      <td>Appropriate in length</td>\n",
              "      <td>Easy</td>\n",
              "      <td>108000.0</td>\n",
              "    </tr>\n",
              "    <tr>\n",
              "      <th>83312</th>\n",
              "      <td>83313</td>\n",
              "      <td>I am a developer by profession</td>\n",
              "      <td>Employed full-time</td>\n",
              "      <td>United States of America</td>\n",
              "      <td>Texas</td>\n",
              "      <td>NaN</td>\n",
              "      <td>Some college/university study without degree</td>\n",
              "      <td>11 - 17 years</td>\n",
              "      <td>Books / Physical media</td>\n",
              "      <td>14</td>\n",
              "      <td>...</td>\n",
              "      <td>NaN</td>\n",
              "      <td>NaN</td>\n",
              "      <td>NaN</td>\n",
              "      <td>NaN</td>\n",
              "      <td>NaN</td>\n",
              "      <td>NaN</td>\n",
              "      <td>NaN</td>\n",
              "      <td>NaN</td>\n",
              "      <td>NaN</td>\n",
              "      <td>200000.0</td>\n",
              "    </tr>\n",
              "    <tr>\n",
              "      <th>83401</th>\n",
              "      <td>83402</td>\n",
              "      <td>I am a developer by profession</td>\n",
              "      <td>Employed full-time</td>\n",
              "      <td>United States of America</td>\n",
              "      <td>Minnesota</td>\n",
              "      <td>NaN</td>\n",
              "      <td>Bachelor’s degree</td>\n",
              "      <td>11 - 17 years</td>\n",
              "      <td>Other online resources (ex: videos, blogs, etc)</td>\n",
              "      <td>11</td>\n",
              "      <td>...</td>\n",
              "      <td>18-24 years old</td>\n",
              "      <td>Man</td>\n",
              "      <td>No</td>\n",
              "      <td>Straight / Heterosexual</td>\n",
              "      <td>White or of European descent;Hispanic or Latin...</td>\n",
              "      <td>None of the above</td>\n",
              "      <td>None of the above</td>\n",
              "      <td>Appropriate in length</td>\n",
              "      <td>Easy</td>\n",
              "      <td>70000.0</td>\n",
              "    </tr>\n",
              "  </tbody>\n",
              "</table>\n",
              "<p>8783 rows × 48 columns</p>\n",
              "</div>\n",
              "      <button class=\"colab-df-convert\" onclick=\"convertToInteractive('df-ca266217-68af-4a75-89ef-c0fefa282e31')\"\n",
              "              title=\"Convert this dataframe to an interactive table.\"\n",
              "              style=\"display:none;\">\n",
              "        \n",
              "  <svg xmlns=\"http://www.w3.org/2000/svg\" height=\"24px\"viewBox=\"0 0 24 24\"\n",
              "       width=\"24px\">\n",
              "    <path d=\"M0 0h24v24H0V0z\" fill=\"none\"/>\n",
              "    <path d=\"M18.56 5.44l.94 2.06.94-2.06 2.06-.94-2.06-.94-.94-2.06-.94 2.06-2.06.94zm-11 1L8.5 8.5l.94-2.06 2.06-.94-2.06-.94L8.5 2.5l-.94 2.06-2.06.94zm10 10l.94 2.06.94-2.06 2.06-.94-2.06-.94-.94-2.06-.94 2.06-2.06.94z\"/><path d=\"M17.41 7.96l-1.37-1.37c-.4-.4-.92-.59-1.43-.59-.52 0-1.04.2-1.43.59L10.3 9.45l-7.72 7.72c-.78.78-.78 2.05 0 2.83L4 21.41c.39.39.9.59 1.41.59.51 0 1.02-.2 1.41-.59l7.78-7.78 2.81-2.81c.8-.78.8-2.07 0-2.86zM5.41 20L4 18.59l7.72-7.72 1.47 1.35L5.41 20z\"/>\n",
              "  </svg>\n",
              "      </button>\n",
              "      \n",
              "  <style>\n",
              "    .colab-df-container {\n",
              "      display:flex;\n",
              "      flex-wrap:wrap;\n",
              "      gap: 12px;\n",
              "    }\n",
              "\n",
              "    .colab-df-convert {\n",
              "      background-color: #E8F0FE;\n",
              "      border: none;\n",
              "      border-radius: 50%;\n",
              "      cursor: pointer;\n",
              "      display: none;\n",
              "      fill: #1967D2;\n",
              "      height: 32px;\n",
              "      padding: 0 0 0 0;\n",
              "      width: 32px;\n",
              "    }\n",
              "\n",
              "    .colab-df-convert:hover {\n",
              "      background-color: #E2EBFA;\n",
              "      box-shadow: 0px 1px 2px rgba(60, 64, 67, 0.3), 0px 1px 3px 1px rgba(60, 64, 67, 0.15);\n",
              "      fill: #174EA6;\n",
              "    }\n",
              "\n",
              "    [theme=dark] .colab-df-convert {\n",
              "      background-color: #3B4455;\n",
              "      fill: #D2E3FC;\n",
              "    }\n",
              "\n",
              "    [theme=dark] .colab-df-convert:hover {\n",
              "      background-color: #434B5C;\n",
              "      box-shadow: 0px 1px 3px 1px rgba(0, 0, 0, 0.15);\n",
              "      filter: drop-shadow(0px 1px 2px rgba(0, 0, 0, 0.3));\n",
              "      fill: #FFFFFF;\n",
              "    }\n",
              "  </style>\n",
              "\n",
              "      <script>\n",
              "        const buttonEl =\n",
              "          document.querySelector('#df-ca266217-68af-4a75-89ef-c0fefa282e31 button.colab-df-convert');\n",
              "        buttonEl.style.display =\n",
              "          google.colab.kernel.accessAllowed ? 'block' : 'none';\n",
              "\n",
              "        async function convertToInteractive(key) {\n",
              "          const element = document.querySelector('#df-ca266217-68af-4a75-89ef-c0fefa282e31');\n",
              "          const dataTable =\n",
              "            await google.colab.kernel.invokeFunction('convertToInteractive',\n",
              "                                                     [key], {});\n",
              "          if (!dataTable) return;\n",
              "\n",
              "          const docLinkHtml = 'Like what you see? Visit the ' +\n",
              "            '<a target=\"_blank\" href=https://colab.research.google.com/notebooks/data_table.ipynb>data table notebook</a>'\n",
              "            + ' to learn more about interactive tables.';\n",
              "          element.innerHTML = '';\n",
              "          dataTable['output_type'] = 'display_data';\n",
              "          await google.colab.output.renderOutput(dataTable, element);\n",
              "          const docLink = document.createElement('div');\n",
              "          docLink.innerHTML = docLinkHtml;\n",
              "          element.appendChild(docLink);\n",
              "        }\n",
              "      </script>\n",
              "    </div>\n",
              "  </div>\n",
              "  "
            ]
          },
          "metadata": {},
          "execution_count": 184
        }
      ]
    },
    {
      "cell_type": "code",
      "source": [
        "sns.boxplot(\n",
        "    data=size_sorted,\n",
        "    x=\"OrgSize\",\n",
        "    y=\"ConvertedCompYearly\",\n",
        ")\n",
        "plt.xticks(rotation=30, ha=\"right\", fontsize=\"xx-large\")\n",
        "plt.xlabel(\"Company Size\", fontsize=\"xx-large\")\n",
        "plt.ylabel(\"Yearly Salary\", fontsize=\"xx-large\")\n",
        "plt.show()"
      ],
      "metadata": {
        "colab": {
          "base_uri": "https://localhost:8080/",
          "height": 692
        },
        "id": "QvykyNGP4Wqz",
        "outputId": "a2b1e6e4-c027-43ea-dbd9-d7f6899f91a1"
      },
      "execution_count": 185,
      "outputs": [
        {
          "output_type": "display_data",
          "data": {
            "text/plain": [
              "<Figure size 1440x720 with 1 Axes>"
            ],
            "image/png": "[encoded data removed]"
          },
          "metadata": {
            "needs_background": "light"
          }
        }
      ]
    },
    {
      "cell_type": "markdown",
      "source": [
        "> From the box plot above, we can see that the median salaries of bigger companies seem to increase slightly compared to the median salaries of smaller companies."
      ],
      "metadata": {
        "id": "VQ8KtAoi5EPo"
      }
    },
    {
      "cell_type": "markdown",
      "source": [
        "### **Salary by Developer Type**\n",
        "Do certain types of developers earn more than others? ."
      ],
      "metadata": {
        "id": "U65LrEKT58nj"
      }
    },
    {
      "cell_type": "code",
      "source": [
        "def str_to_list(text: str):\n",
        "    if isinstance(text, str):\n",
        "        return text.split(\";\")\n",
        "    return text"
      ],
      "metadata": {
        "id": "5GxyYaug5Z_N"
      },
      "execution_count": 186,
      "outputs": []
    },
    {
      "cell_type": "code",
      "source": [
        "salary_devtype = sample[sample[\"ConvertedCompYearly\"] < 500_000].copy()\n",
        "salary_devtype[\"DevType\"]"
      ],
      "metadata": {
        "colab": {
          "base_uri": "https://localhost:8080/"
        },
        "id": "MKJrQkiJ6Fbi",
        "outputId": "4d923851-3a13-41c7-ebcc-1b060e6b57f4"
      },
      "execution_count": 187,
      "outputs": [
        {
          "output_type": "execute_result",
          "data": {
            "text/plain": [
              "36             Developer, embedded applications or devices\n",
              "37                                     Developer, back-end\n",
              "62       Developer, front-end;Developer, desktop or ent...\n",
              "75       Developer, front-end;Developer, full-stack;Dev...\n",
              "87       Engineer, data;Data scientist or machine learn...\n",
              "                               ...                        \n",
              "83404                                Developer, QA or test\n",
              "83416                              Other (please specify):\n",
              "83430    Developer, front-end;Developer, full-stack;Dev...\n",
              "83434                                  Developer, back-end\n",
              "83436    Data scientist or machine learning specialist;...\n",
              "Name: DevType, Length: 8783, dtype: object"
            ]
          },
          "metadata": {},
          "execution_count": 187
        }
      ]
    },
    {
      "cell_type": "code",
      "source": [
        "salary_devtype[\"DevType\"] = salary_devtype[\"DevType\"].apply(str_to_list)"
      ],
      "metadata": {
        "id": "vWcUjKGw6SR4"
      },
      "execution_count": 188,
      "outputs": []
    },
    {
      "cell_type": "code",
      "source": [
        "devtype = salary_devtype.explode(column=\"DevType\").dropna(\n",
        "    subset=[\"ConvertedCompYearly\", \"DevType\"]\n",
        ")"
      ],
      "metadata": {
        "id": "4VFthl5U6cHc"
      },
      "execution_count": 189,
      "outputs": []
    },
    {
      "cell_type": "code",
      "source": [
        "sorted_dev = (\n",
        "    devtype[[\"ConvertedCompYearly\", \"DevType\"]]\n",
        "    .groupby(\"DevType\")\n",
        "    .median()\n",
        "    .sort_values(by=\"ConvertedCompYearly\", ascending=False)\n",
        "    .index\n",
        ")"
      ],
      "metadata": {
        "id": "nF5dAWJi6lYU"
      },
      "execution_count": 190,
      "outputs": []
    },
    {
      "cell_type": "code",
      "source": [
        "plt.figure(figsize=(20, 10))\n",
        "sns.boxplot(data=devtype, x=\"DevType\", y=\"ConvertedCompYearly\", order=sorted_dev)\n",
        "plt.xticks(rotation=30, ha=\"right\", fontsize=\"xx-large\")\n",
        "plt.xlabel(\"Developer Type\", fontsize=\"xx-large\")\n",
        "plt.ylabel(\"Yearly Income\", fontsize=\"xx-large\")\n",
        "plt.show()"
      ],
      "metadata": {
        "colab": {
          "base_uri": "https://localhost:8080/",
          "height": 818
        },
        "id": "UXs_iVXJ6rTV",
        "outputId": "8fe4ac3b-f418-4dde-ea59-72360a6559e6"
      },
      "execution_count": 191,
      "outputs": [
        {
          "output_type": "display_data",
          "data": {
            "text/plain": [
              "<Figure size 1440x720 with 1 Axes>"
            ],
            "image/png": "[encoded data removed]"
          },
          "metadata": {
            "needs_background": "light"
          }
        }
      ]
    },
    {
      "cell_type": "markdown",
      "source": [
        "### The box plot shows that:\n",
        "\n",
        "*   The median salaries between various developer roles are similar except for management roles such as engineering manager, CEO, CTO,... It means that there is no strong correlation between developer type and income.\n",
        "*   Students seem to earn significantly less salary than other full-time positions.\n",
        "* The distribution of C-suit executives (CEO, CTO, etc.) is more widely spread than other distributions. It seems to be the salaries of C-suit executives are significantly various based on different company sizes.\n",
        "\n",
        "Let's verify whether our assumption about C-suit executive's salaries is true or not.\n",
        "\n",
        "\n"
      ],
      "metadata": {
        "id": "hZs_nZKO7D4W"
      }
    },
    {
      "cell_type": "code",
      "source": [
        "ceo = devtype.query(\"DevType == 'Senior Executive (C-Suite, VP, etc.)'\").sort_values(\n",
        "    by=\"OrgSize\"\n",
        ")\n",
        "\n",
        "sns.boxplot(\n",
        "    data=ceo,\n",
        "    x=\"OrgSize\",\n",
        "    y=\"ConvertedCompYearly\",\n",
        ")\n",
        "plt.xticks(rotation=30, ha=\"right\", fontsize=\"xx-large\")\n",
        "plt.xlabel(\"Company Size\", fontsize=\"xx-large\")\n",
        "plt.ylabel(\"Yearly Income\", fontsize=\"xx-large\")\n",
        "plt.show()"
      ],
      "metadata": {
        "colab": {
          "base_uri": "https://localhost:8080/",
          "height": 692
        },
        "id": "u7zgQCnkk8Q_",
        "outputId": "ec6e9d41-c39d-438b-8211-1552e5a109a3"
      },
      "execution_count": 192,
      "outputs": [
        {
          "output_type": "display_data",
          "data": {
            "text/plain": [
              "<Figure size 1440x720 with 1 Axes>"
            ],
            "image/png": "[encoded data removed]"
          },
          "metadata": {
            "needs_background": "light"
          }
        }
      ]
    },
    {
      "cell_type": "markdown",
      "source": [
        "Cool! Our assumption is true. The salaries of Senior Executives tend to increase significantly when the company size increase."
      ],
      "metadata": {
        "id": "ESPHsc_fq5Ot"
      }
    },
    {
      "cell_type": "markdown",
      "source": [
        "## **Conclusion**"
      ],
      "metadata": {
        "id": "Xi5hm7R_-cKm"
      }
    },
    {
      "cell_type": "markdown",
      "source": [
        "*   There is a significant difference in mean salary between developers with fewer years of experience and developers with more years of experience.\n",
        "*   A formal degree has low to no effect on salary.\n",
        "*   The median salary increases slightly when the position is higher up and when the company size increases.\n",
        "\n",
        "#### So should you get a higher degree or get more years of coding experience to earn more income? \n",
        "#### From the analysis of based on Stack Overflow Survey data, the better investment is to get more years of experience in your field of interest.\n",
        "\n",
        "\n",
        "\n",
        "\n",
        "\n",
        "\n"
      ],
      "metadata": {
        "id": "pCjTvxUp-q-6"
      }
    },
    {
      "cell_type": "markdown",
      "source": [
        "# **Thank you for your attention!**"
      ],
      "metadata": {
        "id": "SucgE_vfjx1I"
      }
    }
  ]
}